{
 "cells": [
  {
   "cell_type": "code",
   "execution_count": 23,
   "id": "5c23bba2",
   "metadata": {},
   "outputs": [],
   "source": [
    "import numpy as np\n",
    "import pandas as pd\n",
    "import matplotlib.pyplot as plt"
   ]
  },
  {
   "cell_type": "markdown",
   "id": "1a15f244",
   "metadata": {},
   "source": [
    "# Numpy"
   ]
  },
  {
   "cell_type": "markdown",
   "id": "ee9b47a5",
   "metadata": {},
   "source": [
    "## Задача\n",
    "\n",
    "Сгенерировать вектор из 100 элементов и превратить его в:\n",
    "\n",
    "- матрицу 10x10\n",
    "- вектор 1x100\n",
    "- вектор 100x1"
   ]
  },
  {
   "cell_type": "code",
   "execution_count": 24,
   "id": "f49c47e8",
   "metadata": {},
   "outputs": [
    {
     "name": "stdout",
     "output_type": "stream",
     "text": [
      "(10, 10) (1, 100) (100, 1)\n"
     ]
    }
   ],
   "source": [
    "vector = np.arange(100)\n",
    "\n",
    "matrix10 = vector.reshape(10, 10)\n",
    "vec1 = vector.reshape(1, 100)\n",
    "vec2 = vector.reshape(100, 1)\n",
    "\n",
    "print(matrix10.shape, vec1.shape, vec2.shape)"
   ]
  },
  {
   "cell_type": "markdown",
   "id": "9174e5f9",
   "metadata": {},
   "source": [
    "## Задача - Решение СЛАУ\n",
    "\n",
    "$Ax = b$\n",
    "\n",
    "Функция обратной матрицы - `np.linalg.inv(A)`"
   ]
  },
  {
   "cell_type": "markdown",
   "id": "565b7fa2",
   "metadata": {},
   "source": [
    "Решение СЛАУ выглядит так:\n",
    "\n",
    "$Ax = b$\n",
    "\n",
    "$A^{-1}Ax=A^{-1}b$\n",
    "\n",
    "$x=A^{-1}b$"
   ]
  },
  {
   "cell_type": "code",
   "execution_count": 25,
   "id": "4187a948",
   "metadata": {},
   "outputs": [
    {
     "data": {
      "text/plain": [
       "array([1.11022302e-16, 3.00000000e+00])"
      ]
     },
     "execution_count": 25,
     "metadata": {},
     "output_type": "execute_result"
    }
   ],
   "source": [
    "A = np.array([\n",
    "    [3, -2],\n",
    "    [5, 1]]\n",
    ")\n",
    "b = np.array([-6, 3])\n",
    "# Решение - [0, 3]\n",
    "x = np.linalg.inv(A) @ b\n",
    "x"
   ]
  },
  {
   "cell_type": "code",
   "execution_count": 26,
   "id": "cacbe9fd",
   "metadata": {},
   "outputs": [
    {
     "data": {
      "text/plain": [
       "array([0., 3.])"
      ]
     },
     "execution_count": 26,
     "metadata": {},
     "output_type": "execute_result"
    }
   ],
   "source": [
    "np.linalg.solve(A, b)"
   ]
  },
  {
   "cell_type": "markdown",
   "id": "d93ed7ed",
   "metadata": {},
   "source": [
    "## Задача\n",
    "\n",
    "Сгенерировать случайную матрицу и посчитать сумму положительных элементов в каждой строке, в каждом столбце."
   ]
  },
  {
   "cell_type": "code",
   "execution_count": 27,
   "id": "f7238345",
   "metadata": {},
   "outputs": [],
   "source": [
    "a = np.random.uniform(-1, 1, size=(5, 3))\n",
    "a[a < 0] = 0"
   ]
  },
  {
   "cell_type": "code",
   "execution_count": 28,
   "id": "2d45b5e7",
   "metadata": {},
   "outputs": [
    {
     "data": {
      "text/plain": [
       "array([1.49855244, 1.29184644, 1.32985703])"
      ]
     },
     "execution_count": 28,
     "metadata": {},
     "output_type": "execute_result"
    }
   ],
   "source": [
    "a.sum(axis=0)"
   ]
  },
  {
   "cell_type": "code",
   "execution_count": 29,
   "id": "fce7fb32",
   "metadata": {},
   "outputs": [
    {
     "data": {
      "text/plain": [
       "array([0.33571978, 0.39841114, 0.36286511, 0.86060016, 2.1626597 ])"
      ]
     },
     "execution_count": 29,
     "metadata": {},
     "output_type": "execute_result"
    }
   ],
   "source": [
    "a.sum(axis=1)"
   ]
  },
  {
   "cell_type": "markdown",
   "id": "b449a8b6",
   "metadata": {},
   "source": [
    "## Задача\n",
    "\n",
    "Вывести матрицу из нулей и единиц в шахматном порядке"
   ]
  },
  {
   "cell_type": "code",
   "execution_count": 30,
   "id": "74853cc5",
   "metadata": {},
   "outputs": [
    {
     "data": {
      "text/plain": [
       "array([[1., 0., 1., 0., 1.],\n",
       "       [0., 1., 0., 1., 0.],\n",
       "       [1., 0., 1., 0., 1.],\n",
       "       [0., 1., 0., 1., 0.],\n",
       "       [1., 0., 1., 0., 1.]])"
      ]
     },
     "execution_count": 30,
     "metadata": {},
     "output_type": "execute_result"
    }
   ],
   "source": [
    "n = 5\n",
    "m = np.zeros((n, n))\n",
    "\n",
    "m[::2, ::2] = 1\n",
    "m[1::2, 1::2] = 1\n",
    "\n",
    "m"
   ]
  },
  {
   "cell_type": "markdown",
   "id": "677a5427",
   "metadata": {},
   "source": [
    "# Pandas"
   ]
  },
  {
   "cell_type": "markdown",
   "id": "cfc4e4e1",
   "metadata": {},
   "source": [
    "## Задача\n",
    "\n",
    "Посчитать средний рост для высоких людей"
   ]
  },
  {
   "cell_type": "code",
   "execution_count": 31,
   "id": "e5f9b895",
   "metadata": {},
   "outputs": [
    {
     "data": {
      "text/html": [
       "<div>\n",
       "<style scoped>\n",
       "    .dataframe tbody tr th:only-of-type {\n",
       "        vertical-align: middle;\n",
       "    }\n",
       "\n",
       "    .dataframe tbody tr th {\n",
       "        vertical-align: top;\n",
       "    }\n",
       "\n",
       "    .dataframe thead th {\n",
       "        text-align: right;\n",
       "    }\n",
       "</style>\n",
       "<table border=\"1\" class=\"dataframe\">\n",
       "  <thead>\n",
       "    <tr style=\"text-align: right;\">\n",
       "      <th></th>\n",
       "      <th>age</th>\n",
       "      <th>height</th>\n",
       "      <th>name</th>\n",
       "      <th>height_category</th>\n",
       "    </tr>\n",
       "  </thead>\n",
       "  <tbody>\n",
       "    <tr>\n",
       "      <th>0</th>\n",
       "      <td>25</td>\n",
       "      <td>170</td>\n",
       "      <td>Alex</td>\n",
       "      <td>низкий</td>\n",
       "    </tr>\n",
       "    <tr>\n",
       "      <th>1</th>\n",
       "      <td>35</td>\n",
       "      <td>180</td>\n",
       "      <td>Polina</td>\n",
       "      <td>высокий</td>\n",
       "    </tr>\n",
       "    <tr>\n",
       "      <th>2</th>\n",
       "      <td>45</td>\n",
       "      <td>190</td>\n",
       "      <td>Misha</td>\n",
       "      <td>высокий</td>\n",
       "    </tr>\n",
       "  </tbody>\n",
       "</table>\n",
       "</div>"
      ],
      "text/plain": [
       "   age  height    name height_category\n",
       "0   25     170    Alex          низкий\n",
       "1   35     180  Polina         высокий\n",
       "2   45     190   Misha         высокий"
      ]
     },
     "execution_count": 31,
     "metadata": {},
     "output_type": "execute_result"
    }
   ],
   "source": [
    "# Сгенерируем датафрейм\n",
    "ages = [25, 35, 45]\n",
    "heights = [170, 180, 190]\n",
    "names = [\"Alex\", \"Polina\", \"Misha\"]\n",
    "data = {'age': ages, 'height': heights, 'name': names}\n",
    "df = pd.DataFrame(data)\n",
    "df[\"height_category\"] = df[\"height\"].apply(lambda x: \"высокий\" if x > 175 else \"низкий\")\n",
    "df"
   ]
  },
  {
   "cell_type": "code",
   "execution_count": 32,
   "id": "36e29499",
   "metadata": {},
   "outputs": [
    {
     "data": {
      "text/plain": [
       "185.0"
      ]
     },
     "execution_count": 32,
     "metadata": {},
     "output_type": "execute_result"
    }
   ],
   "source": [
    "df.loc[df['height_category'] == 'высокий', 'height'].mean()"
   ]
  },
  {
   "cell_type": "markdown",
   "id": "d6a81a34",
   "metadata": {},
   "source": [
    "## Задача\n",
    "\n",
    "Вывести среднюю температуру за январь 2010 года"
   ]
  },
  {
   "cell_type": "code",
   "execution_count": 33,
   "id": "7748220c",
   "metadata": {},
   "outputs": [
    {
     "data": {
      "text/html": [
       "<div>\n",
       "<style scoped>\n",
       "    .dataframe tbody tr th:only-of-type {\n",
       "        vertical-align: middle;\n",
       "    }\n",
       "\n",
       "    .dataframe tbody tr th {\n",
       "        vertical-align: top;\n",
       "    }\n",
       "\n",
       "    .dataframe thead th {\n",
       "        text-align: right;\n",
       "    }\n",
       "</style>\n",
       "<table border=\"1\" class=\"dataframe\">\n",
       "  <thead>\n",
       "    <tr style=\"text-align: right;\">\n",
       "      <th></th>\n",
       "      <th>Day</th>\n",
       "      <th>t</th>\n",
       "      <th>year</th>\n",
       "      <th>month</th>\n",
       "      <th>day</th>\n",
       "    </tr>\n",
       "  </thead>\n",
       "  <tbody>\n",
       "    <tr>\n",
       "      <th>0</th>\n",
       "      <td>2008-01-01</td>\n",
       "      <td>0</td>\n",
       "      <td>2008</td>\n",
       "      <td>1</td>\n",
       "      <td>1</td>\n",
       "    </tr>\n",
       "    <tr>\n",
       "      <th>1</th>\n",
       "      <td>2008-01-02</td>\n",
       "      <td>-5</td>\n",
       "      <td>2008</td>\n",
       "      <td>1</td>\n",
       "      <td>2</td>\n",
       "    </tr>\n",
       "    <tr>\n",
       "      <th>2</th>\n",
       "      <td>2008-01-03</td>\n",
       "      <td>-11</td>\n",
       "      <td>2008</td>\n",
       "      <td>1</td>\n",
       "      <td>3</td>\n",
       "    </tr>\n",
       "    <tr>\n",
       "      <th>3</th>\n",
       "      <td>2008-01-04</td>\n",
       "      <td>-11</td>\n",
       "      <td>2008</td>\n",
       "      <td>1</td>\n",
       "      <td>4</td>\n",
       "    </tr>\n",
       "    <tr>\n",
       "      <th>4</th>\n",
       "      <td>2008-01-05</td>\n",
       "      <td>-12</td>\n",
       "      <td>2008</td>\n",
       "      <td>1</td>\n",
       "      <td>5</td>\n",
       "    </tr>\n",
       "  </tbody>\n",
       "</table>\n",
       "</div>"
      ],
      "text/plain": [
       "         Day   t  year  month  day\n",
       "0 2008-01-01   0  2008      1    1\n",
       "1 2008-01-02  -5  2008      1    2\n",
       "2 2008-01-03 -11  2008      1    3\n",
       "3 2008-01-04 -11  2008      1    4\n",
       "4 2008-01-05 -12  2008      1    5"
      ]
     },
     "execution_count": 33,
     "metadata": {},
     "output_type": "execute_result"
    }
   ],
   "source": [
    "# Прочитаем данные\n",
    "df = pd.read_csv('../data/weather.csv')\n",
    "df[\"Day\"] = pd.to_datetime(df[\"Day\"])\n",
    "df[\"year\"] = df.Day.dt.year\n",
    "df[\"month\"] = df.Day.dt.month\n",
    "df[\"day\"] = df.Day.dt.day\n",
    "df.head()"
   ]
  },
  {
   "cell_type": "code",
   "execution_count": 34,
   "id": "a7c2a5b4",
   "metadata": {},
   "outputs": [
    {
     "data": {
      "text/plain": [
       "-11.419354838709678"
      ]
     },
     "execution_count": 34,
     "metadata": {},
     "output_type": "execute_result"
    }
   ],
   "source": [
    "df.loc[(df['year'] == 2010) & (df['month'] == 1), 't'].mean()"
   ]
  },
  {
   "cell_type": "markdown",
   "id": "87d0945d",
   "metadata": {},
   "source": [
    "## Задания\n",
    "\n",
    "Стараемся избегать циклов\n",
    "\n",
    "### Easy\n",
    "- Найти насколько отличалась температура в самый жаркий и самый холодный день"
   ]
  },
  {
   "cell_type": "code",
   "execution_count": 35,
   "id": "402e8349",
   "metadata": {},
   "outputs": [
    {
     "data": {
      "text/plain": [
       "57"
      ]
     },
     "execution_count": 35,
     "metadata": {},
     "output_type": "execute_result"
    }
   ],
   "source": [
    "abs(df['t'].min() - df['t'].max())"
   ]
  },
  {
   "cell_type": "markdown",
   "id": "f98de968",
   "metadata": {},
   "source": [
    "### Normal\n",
    "- Вывести среднюю температуру за каждый год"
   ]
  },
  {
   "cell_type": "code",
   "execution_count": 46,
   "id": "a47d3d42",
   "metadata": {},
   "outputs": [
    {
     "data": {
      "text/html": [
       "<div>\n",
       "<style scoped>\n",
       "    .dataframe tbody tr th:only-of-type {\n",
       "        vertical-align: middle;\n",
       "    }\n",
       "\n",
       "    .dataframe tbody tr th {\n",
       "        vertical-align: top;\n",
       "    }\n",
       "\n",
       "    .dataframe thead tr th {\n",
       "        text-align: left;\n",
       "    }\n",
       "\n",
       "    .dataframe thead tr:last-of-type th {\n",
       "        text-align: right;\n",
       "    }\n",
       "</style>\n",
       "<table border=\"1\" class=\"dataframe\">\n",
       "  <thead>\n",
       "    <tr>\n",
       "      <th></th>\n",
       "      <th colspan=\"5\" halign=\"left\">t</th>\n",
       "    </tr>\n",
       "    <tr>\n",
       "      <th></th>\n",
       "      <th>mean</th>\n",
       "      <th>max</th>\n",
       "      <th>min</th>\n",
       "      <th>std</th>\n",
       "      <th>median</th>\n",
       "    </tr>\n",
       "    <tr>\n",
       "      <th>year</th>\n",
       "      <th></th>\n",
       "      <th></th>\n",
       "      <th></th>\n",
       "      <th></th>\n",
       "      <th></th>\n",
       "    </tr>\n",
       "  </thead>\n",
       "  <tbody>\n",
       "    <tr>\n",
       "      <th>2008</th>\n",
       "      <td>8.545205</td>\n",
       "      <td>27</td>\n",
       "      <td>-14</td>\n",
       "      <td>8.221605</td>\n",
       "      <td>9.0</td>\n",
       "    </tr>\n",
       "    <tr>\n",
       "      <th>2009</th>\n",
       "      <td>7.610959</td>\n",
       "      <td>26</td>\n",
       "      <td>-13</td>\n",
       "      <td>9.767455</td>\n",
       "      <td>6.0</td>\n",
       "    </tr>\n",
       "    <tr>\n",
       "      <th>2010</th>\n",
       "      <td>7.117808</td>\n",
       "      <td>34</td>\n",
       "      <td>-23</td>\n",
       "      <td>12.953206</td>\n",
       "      <td>8.0</td>\n",
       "    </tr>\n",
       "    <tr>\n",
       "      <th>2011</th>\n",
       "      <td>8.337912</td>\n",
       "      <td>31</td>\n",
       "      <td>-20</td>\n",
       "      <td>10.839861</td>\n",
       "      <td>8.0</td>\n",
       "    </tr>\n",
       "    <tr>\n",
       "      <th>2012</th>\n",
       "      <td>6.980822</td>\n",
       "      <td>31</td>\n",
       "      <td>-19</td>\n",
       "      <td>11.060134</td>\n",
       "      <td>7.0</td>\n",
       "    </tr>\n",
       "    <tr>\n",
       "      <th>2013</th>\n",
       "      <td>8.728767</td>\n",
       "      <td>31</td>\n",
       "      <td>-16</td>\n",
       "      <td>10.619822</td>\n",
       "      <td>8.0</td>\n",
       "    </tr>\n",
       "    <tr>\n",
       "      <th>2014</th>\n",
       "      <td>8.931507</td>\n",
       "      <td>31</td>\n",
       "      <td>-18</td>\n",
       "      <td>10.485637</td>\n",
       "      <td>8.0</td>\n",
       "    </tr>\n",
       "    <tr>\n",
       "      <th>2015</th>\n",
       "      <td>9.079452</td>\n",
       "      <td>27</td>\n",
       "      <td>-11</td>\n",
       "      <td>8.307070</td>\n",
       "      <td>8.0</td>\n",
       "    </tr>\n",
       "    <tr>\n",
       "      <th>2016</th>\n",
       "      <td>7.907104</td>\n",
       "      <td>30</td>\n",
       "      <td>-21</td>\n",
       "      <td>10.453923</td>\n",
       "      <td>7.0</td>\n",
       "    </tr>\n",
       "  </tbody>\n",
       "</table>\n",
       "</div>"
      ],
      "text/plain": [
       "             t                          \n",
       "          mean max min        std median\n",
       "year                                    \n",
       "2008  8.545205  27 -14   8.221605    9.0\n",
       "2009  7.610959  26 -13   9.767455    6.0\n",
       "2010  7.117808  34 -23  12.953206    8.0\n",
       "2011  8.337912  31 -20  10.839861    8.0\n",
       "2012  6.980822  31 -19  11.060134    7.0\n",
       "2013  8.728767  31 -16  10.619822    8.0\n",
       "2014  8.931507  31 -18  10.485637    8.0\n",
       "2015  9.079452  27 -11   8.307070    8.0\n",
       "2016  7.907104  30 -21  10.453923    7.0"
      ]
     },
     "execution_count": 46,
     "metadata": {},
     "output_type": "execute_result"
    }
   ],
   "source": [
    "df.groupby('year').agg({'t' : ['mean', 'max', 'min', 'std', 'median']})"
   ]
  },
  {
   "cell_type": "markdown",
   "id": "3cdb83b5",
   "metadata": {},
   "source": [
    "- Необходимо узнать насколько медиана отличалась от среднего в каждом месяце. Использовать agg для решения"
   ]
  },
  {
   "cell_type": "code",
   "execution_count": 42,
   "id": "5a7881fa",
   "metadata": {},
   "outputs": [
    {
     "data": {
      "text/html": [
       "<div>\n",
       "<style scoped>\n",
       "    .dataframe tbody tr th:only-of-type {\n",
       "        vertical-align: middle;\n",
       "    }\n",
       "\n",
       "    .dataframe tbody tr th {\n",
       "        vertical-align: top;\n",
       "    }\n",
       "\n",
       "    .dataframe thead tr th {\n",
       "        text-align: left;\n",
       "    }\n",
       "\n",
       "    .dataframe thead tr:last-of-type th {\n",
       "        text-align: right;\n",
       "    }\n",
       "</style>\n",
       "<table border=\"1\" class=\"dataframe\">\n",
       "  <thead>\n",
       "    <tr>\n",
       "      <th></th>\n",
       "      <th>t</th>\n",
       "    </tr>\n",
       "    <tr>\n",
       "      <th></th>\n",
       "      <th>value</th>\n",
       "    </tr>\n",
       "    <tr>\n",
       "      <th>month</th>\n",
       "      <th></th>\n",
       "    </tr>\n",
       "  </thead>\n",
       "  <tbody>\n",
       "    <tr>\n",
       "      <th>1</th>\n",
       "      <td>0.745520</td>\n",
       "    </tr>\n",
       "    <tr>\n",
       "      <th>2</th>\n",
       "      <td>1.505882</td>\n",
       "    </tr>\n",
       "    <tr>\n",
       "      <th>3</th>\n",
       "      <td>0.240143</td>\n",
       "    </tr>\n",
       "    <tr>\n",
       "      <th>4</th>\n",
       "      <td>0.744444</td>\n",
       "    </tr>\n",
       "    <tr>\n",
       "      <th>5</th>\n",
       "      <td>0.291367</td>\n",
       "    </tr>\n",
       "    <tr>\n",
       "      <th>6</th>\n",
       "      <td>0.325926</td>\n",
       "    </tr>\n",
       "    <tr>\n",
       "      <th>7</th>\n",
       "      <td>0.050360</td>\n",
       "    </tr>\n",
       "    <tr>\n",
       "      <th>8</th>\n",
       "      <td>0.666667</td>\n",
       "    </tr>\n",
       "    <tr>\n",
       "      <th>9</th>\n",
       "      <td>0.425926</td>\n",
       "    </tr>\n",
       "    <tr>\n",
       "      <th>10</th>\n",
       "      <td>0.673835</td>\n",
       "    </tr>\n",
       "    <tr>\n",
       "      <th>11</th>\n",
       "      <td>0.533333</td>\n",
       "    </tr>\n",
       "    <tr>\n",
       "      <th>12</th>\n",
       "      <td>1.323741</td>\n",
       "    </tr>\n",
       "  </tbody>\n",
       "</table>\n",
       "</div>"
      ],
      "text/plain": [
       "              t\n",
       "          value\n",
       "month          \n",
       "1      0.745520\n",
       "2      1.505882\n",
       "3      0.240143\n",
       "4      0.744444\n",
       "5      0.291367\n",
       "6      0.325926\n",
       "7      0.050360\n",
       "8      0.666667\n",
       "9      0.425926\n",
       "10     0.673835\n",
       "11     0.533333\n",
       "12     1.323741"
      ]
     },
     "execution_count": 42,
     "metadata": {},
     "output_type": "execute_result"
    }
   ],
   "source": [
    "df.groupby('month').agg({\n",
    "                          't' : [('value', lambda value: abs(value.mean() - value.median()))]\n",
    "                        })"
   ]
  },
  {
   "cell_type": "markdown",
   "id": "fab83955",
   "metadata": {},
   "source": [
    "### Hard\n",
    "- Вывести день, в который максимально изменилась температура\n",
    "\n",
    "Подсказка: `diff()`"
   ]
  },
  {
   "cell_type": "markdown",
   "id": "29b7c74e",
   "metadata": {},
   "source": [
    "## Решение\n",
    "\n",
    "С помощью `diff` посчитаем разницу между соседними днями"
   ]
  },
  {
   "cell_type": "code",
   "execution_count": null,
   "id": "d6730242",
   "metadata": {},
   "outputs": [],
   "source": [
    "df['t'].diff()"
   ]
  },
  {
   "cell_type": "markdown",
   "id": "d5899aa9",
   "metadata": {},
   "source": [
    "Видим, что есть отрицательные значения, но нам не важно в какую сторону менялась температура, поэтому берем абсолютное значение.\n",
    "\n",
    "Также есть `NaN`, но для решения этой задачи это не должно быть проблемой"
   ]
  },
  {
   "cell_type": "code",
   "execution_count": null,
   "id": "c1d1ca2b",
   "metadata": {},
   "outputs": [],
   "source": [
    "abs(df['t'].diff())"
   ]
  },
  {
   "cell_type": "markdown",
   "id": "441e3b4d",
   "metadata": {},
   "source": [
    "Сохраним это в новую колонку, чтобы дальше ее использовать"
   ]
  },
  {
   "cell_type": "code",
   "execution_count": null,
   "id": "fb801c99",
   "metadata": {},
   "outputs": [],
   "source": [
    "df['diff_t'] = abs(df['t'].diff())"
   ]
  },
  {
   "cell_type": "markdown",
   "id": "c1d69474",
   "metadata": {},
   "source": [
    "Теперь надо найти максимальное значение и посмотреть в каком дне это было. Максимум можно найти при помощи функции `max`"
   ]
  },
  {
   "cell_type": "code",
   "execution_count": null,
   "id": "2d37226c",
   "metadata": {},
   "outputs": [],
   "source": [
    "df['diff_t'].max()"
   ]
  },
  {
   "cell_type": "code",
   "execution_count": null,
   "id": "298057da",
   "metadata": {},
   "outputs": [],
   "source": [
    "df[df['diff_t'] == 15]"
   ]
  },
  {
   "cell_type": "markdown",
   "id": "33d0fd4d",
   "metadata": {},
   "source": [
    "Можно не писать фильтрацию, а просто воспользоваться функцией argmax, которая вернет индекс максимального значения"
   ]
  },
  {
   "cell_type": "code",
   "execution_count": null,
   "id": "6a29cdf7",
   "metadata": {},
   "outputs": [],
   "source": [
    "df['diff_t'].argmax()"
   ]
  },
  {
   "cell_type": "markdown",
   "id": "8d97a8a9",
   "metadata": {},
   "source": [
    "Ну и решим задачу окончательно"
   ]
  },
  {
   "cell_type": "code",
   "execution_count": null,
   "id": "5a3c9a60",
   "metadata": {},
   "outputs": [],
   "source": [
    "df.loc[df['diff_t'].argmax()]"
   ]
  },
  {
   "cell_type": "markdown",
   "id": "b542feac",
   "metadata": {},
   "source": [
    "Вся задача решается в две строки:"
   ]
  },
  {
   "cell_type": "code",
   "execution_count": null,
   "id": "246aa064",
   "metadata": {},
   "outputs": [],
   "source": [
    "df['diff_t'] = abs(df['t'].diff())\n",
    "df.loc[df['diff_t'].argmax()]"
   ]
  },
  {
   "cell_type": "markdown",
   "id": "fc609468",
   "metadata": {},
   "source": [
    "## Подсказка к hard домашней работе\n",
    "\n",
    "1. Чтобы решить задачу, вам нужно каким-то образом \"распаковать\" списки.\n",
    "2. Загвоздка в том, что списки сейчас это не списки, а строки. Нам нужно как то из строк сделать обратно списки\n",
    "3. Сделать это можно с помощью методы .split. Как применить какую-то функцию к каждому элементу мы уже проходили (Воспользуйтесь функцией apply(lambda x: x.split(\",\")) )\n",
    "4. Не сработало )) Нам мешают знаки \"[\", \"]\", \"'\" . Загуглите как их удалить и повторите третий шаг\n",
    "5. Если вы все правильно сделали, то в колонке roles у вас будут списки с названием ролей\n",
    "6. Погуглите функцию explode\n",
    "7. Далее нужно сгруппировать либо по (Роли, Атрибуту) либо наоборот, в зависимости от задания. Чтобы не ломать мозг с мульти индексом добавьте as_index = False.\n",
    "8. Гуглим как строить barplot. Я вам посоветую библиотеку seaborn\n",
    "9. С помощью функции for по уникальным ролям\\атрибутам строим необходимое количество графиков\n",
    "10. Если график слишком маленький гуглим как сделать его больше\n",
    "11. Если очень хочется решить это задание но не получается, то напишите мне, я вам помогу.\n",
    "12. Выводы сделайте сами)\n",
    "\n"
   ]
  },
  {
   "cell_type": "code",
   "execution_count": null,
   "id": "1889ea69",
   "metadata": {},
   "outputs": [],
   "source": []
  }
 ],
 "metadata": {
  "kernelspec": {
   "display_name": "Python 3 (ipykernel)",
   "language": "python",
   "name": "python3"
  },
  "language_info": {
   "codemirror_mode": {
    "name": "ipython",
    "version": 3
   },
   "file_extension": ".py",
   "mimetype": "text/x-python",
   "name": "python",
   "nbconvert_exporter": "python",
   "pygments_lexer": "ipython3",
   "version": "3.9.7"
  }
 },
 "nbformat": 4,
 "nbformat_minor": 5
}
