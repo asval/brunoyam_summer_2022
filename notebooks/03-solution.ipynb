{
 "cells": [
  {
   "cell_type": "code",
   "execution_count": 1,
   "id": "5c23bba2",
   "metadata": {},
   "outputs": [],
   "source": [
    "import numpy as np\n",
    "import pandas as pd\n",
    "import matplotlib.pyplot as plt"
   ]
  },
  {
   "cell_type": "markdown",
   "id": "677a5427",
   "metadata": {},
   "source": [
    "# Pandas"
   ]
  },
  {
   "cell_type": "markdown",
   "id": "cfc4e4e1",
   "metadata": {},
   "source": [
    "## Задача\n",
    "\n",
    "Дан датасет по заболеваемости коронавирусом с такими колонками: `date`, `continent`, `new_cases`."
   ]
  },
  {
   "cell_type": "code",
   "execution_count": 2,
   "id": "98292080",
   "metadata": {},
   "outputs": [
    {
     "data": {
      "text/html": [
       "<div>\n",
       "<style scoped>\n",
       "    .dataframe tbody tr th:only-of-type {\n",
       "        vertical-align: middle;\n",
       "    }\n",
       "\n",
       "    .dataframe tbody tr th {\n",
       "        vertical-align: top;\n",
       "    }\n",
       "\n",
       "    .dataframe thead th {\n",
       "        text-align: right;\n",
       "    }\n",
       "</style>\n",
       "<table border=\"1\" class=\"dataframe\">\n",
       "  <thead>\n",
       "    <tr style=\"text-align: right;\">\n",
       "      <th></th>\n",
       "      <th>date</th>\n",
       "      <th>continent</th>\n",
       "      <th>new_cases</th>\n",
       "    </tr>\n",
       "  </thead>\n",
       "  <tbody>\n",
       "    <tr>\n",
       "      <th>0</th>\n",
       "      <td>13-03-20</td>\n",
       "      <td>North America</td>\n",
       "      <td>2.0</td>\n",
       "    </tr>\n",
       "    <tr>\n",
       "      <th>4</th>\n",
       "      <td>20-03-20</td>\n",
       "      <td>North America</td>\n",
       "      <td>2.0</td>\n",
       "    </tr>\n",
       "    <tr>\n",
       "      <th>12</th>\n",
       "      <td>24-03-20</td>\n",
       "      <td>North America</td>\n",
       "      <td>8.0</td>\n",
       "    </tr>\n",
       "    <tr>\n",
       "      <th>14</th>\n",
       "      <td>25-03-20</td>\n",
       "      <td>North America</td>\n",
       "      <td>5.0</td>\n",
       "    </tr>\n",
       "    <tr>\n",
       "      <th>16</th>\n",
       "      <td>26-03-20</td>\n",
       "      <td>North America</td>\n",
       "      <td>2.0</td>\n",
       "    </tr>\n",
       "    <tr>\n",
       "      <th>...</th>\n",
       "      <td>...</td>\n",
       "      <td>...</td>\n",
       "      <td>...</td>\n",
       "    </tr>\n",
       "    <tr>\n",
       "      <th>104530</th>\n",
       "      <td>23-10-20</td>\n",
       "      <td>Africa</td>\n",
       "      <td>27.0</td>\n",
       "    </tr>\n",
       "    <tr>\n",
       "      <th>104532</th>\n",
       "      <td>24-10-20</td>\n",
       "      <td>Africa</td>\n",
       "      <td>15.0</td>\n",
       "    </tr>\n",
       "    <tr>\n",
       "      <th>104534</th>\n",
       "      <td>25-10-20</td>\n",
       "      <td>Africa</td>\n",
       "      <td>12.0</td>\n",
       "    </tr>\n",
       "    <tr>\n",
       "      <th>104536</th>\n",
       "      <td>26-10-20</td>\n",
       "      <td>Africa</td>\n",
       "      <td>7.0</td>\n",
       "    </tr>\n",
       "    <tr>\n",
       "      <th>104538</th>\n",
       "      <td>27-10-20</td>\n",
       "      <td>Africa</td>\n",
       "      <td>27.0</td>\n",
       "    </tr>\n",
       "  </tbody>\n",
       "</table>\n",
       "<p>51613 rows × 3 columns</p>\n",
       "</div>"
      ],
      "text/plain": [
       "            date      continent  new_cases\n",
       "0       13-03-20  North America        2.0\n",
       "4       20-03-20  North America        2.0\n",
       "12      24-03-20  North America        8.0\n",
       "14      25-03-20  North America        5.0\n",
       "16      26-03-20  North America        2.0\n",
       "...          ...            ...        ...\n",
       "104530  23-10-20         Africa       27.0\n",
       "104532  24-10-20         Africa       15.0\n",
       "104534  25-10-20         Africa       12.0\n",
       "104536  26-10-20         Africa        7.0\n",
       "104538  27-10-20         Africa       27.0\n",
       "\n",
       "[51613 rows x 3 columns]"
      ]
     },
     "execution_count": 2,
     "metadata": {},
     "output_type": "execute_result"
    }
   ],
   "source": [
    "df = pd.read_csv('../data/covid-19cases.csv', index_col=0)\n",
    "df = df[df['date'] != 'For Notes: ']\n",
    "df = df[['date', 'continent', 'new_cases']]\n",
    "df = df.dropna()\n",
    "df"
   ]
  },
  {
   "cell_type": "markdown",
   "id": "36e3d7d3",
   "metadata": {},
   "source": [
    "### Задача 1\n",
    "\n",
    "Посчитать сколько людей суммарно заболело на каждом континенте."
   ]
  },
  {
   "cell_type": "code",
   "execution_count": 3,
   "id": "0c80c855",
   "metadata": {},
   "outputs": [
    {
     "data": {
      "text/html": [
       "<div>\n",
       "<style scoped>\n",
       "    .dataframe tbody tr th:only-of-type {\n",
       "        vertical-align: middle;\n",
       "    }\n",
       "\n",
       "    .dataframe tbody tr th {\n",
       "        vertical-align: top;\n",
       "    }\n",
       "\n",
       "    .dataframe thead th {\n",
       "        text-align: right;\n",
       "    }\n",
       "</style>\n",
       "<table border=\"1\" class=\"dataframe\">\n",
       "  <thead>\n",
       "    <tr style=\"text-align: right;\">\n",
       "      <th></th>\n",
       "      <th>new_cases</th>\n",
       "    </tr>\n",
       "    <tr>\n",
       "      <th>continent</th>\n",
       "      <th></th>\n",
       "    </tr>\n",
       "  </thead>\n",
       "  <tbody>\n",
       "    <tr>\n",
       "      <th>Africa</th>\n",
       "      <td>1729711.0</td>\n",
       "    </tr>\n",
       "    <tr>\n",
       "      <th>Asia</th>\n",
       "      <td>13279735.0</td>\n",
       "    </tr>\n",
       "    <tr>\n",
       "      <th>Europe</th>\n",
       "      <td>8621693.0</td>\n",
       "    </tr>\n",
       "    <tr>\n",
       "      <th>North America</th>\n",
       "      <td>10528425.0</td>\n",
       "    </tr>\n",
       "    <tr>\n",
       "      <th>Oceania</th>\n",
       "      <td>40052.0</td>\n",
       "    </tr>\n",
       "    <tr>\n",
       "      <th>South America</th>\n",
       "      <td>9396228.0</td>\n",
       "    </tr>\n",
       "  </tbody>\n",
       "</table>\n",
       "</div>"
      ],
      "text/plain": [
       "                new_cases\n",
       "continent                \n",
       "Africa          1729711.0\n",
       "Asia           13279735.0\n",
       "Europe          8621693.0\n",
       "North America  10528425.0\n",
       "Oceania           40052.0\n",
       "South America   9396228.0"
      ]
     },
     "execution_count": 3,
     "metadata": {},
     "output_type": "execute_result"
    }
   ],
   "source": [
    "df.groupby('continent').sum()"
   ]
  },
  {
   "cell_type": "markdown",
   "id": "1bc35943",
   "metadata": {},
   "source": [
    "### Задача 2\n",
    "\n",
    "Посчитать корреляцию между заболеваниями на разных континентах.\n",
    "\n",
    "Корреляцию можно посчитать при помощи some_df.corr(), но тогда в индексе должны быть даты, а в колонках названия континентов."
   ]
  },
  {
   "cell_type": "code",
   "execution_count": 4,
   "id": "d3c84f15",
   "metadata": {},
   "outputs": [
    {
     "data": {
      "text/html": [
       "<div>\n",
       "<style scoped>\n",
       "    .dataframe tbody tr th:only-of-type {\n",
       "        vertical-align: middle;\n",
       "    }\n",
       "\n",
       "    .dataframe tbody tr th {\n",
       "        vertical-align: top;\n",
       "    }\n",
       "\n",
       "    .dataframe thead th {\n",
       "        text-align: right;\n",
       "    }\n",
       "</style>\n",
       "<table border=\"1\" class=\"dataframe\">\n",
       "  <thead>\n",
       "    <tr style=\"text-align: right;\">\n",
       "      <th>continent</th>\n",
       "      <th>Africa</th>\n",
       "      <th>Asia</th>\n",
       "      <th>Europe</th>\n",
       "      <th>North America</th>\n",
       "      <th>Oceania</th>\n",
       "      <th>South America</th>\n",
       "    </tr>\n",
       "    <tr>\n",
       "      <th>continent</th>\n",
       "      <th></th>\n",
       "      <th></th>\n",
       "      <th></th>\n",
       "      <th></th>\n",
       "      <th></th>\n",
       "      <th></th>\n",
       "    </tr>\n",
       "  </thead>\n",
       "  <tbody>\n",
       "    <tr>\n",
       "      <th>Africa</th>\n",
       "      <td>1.000000</td>\n",
       "      <td>0.705671</td>\n",
       "      <td>0.284256</td>\n",
       "      <td>0.886212</td>\n",
       "      <td>0.448894</td>\n",
       "      <td>0.855486</td>\n",
       "    </tr>\n",
       "    <tr>\n",
       "      <th>Asia</th>\n",
       "      <td>0.705671</td>\n",
       "      <td>1.000000</td>\n",
       "      <td>0.551060</td>\n",
       "      <td>0.788940</td>\n",
       "      <td>0.381445</td>\n",
       "      <td>0.861818</td>\n",
       "    </tr>\n",
       "    <tr>\n",
       "      <th>Europe</th>\n",
       "      <td>0.284256</td>\n",
       "      <td>0.551060</td>\n",
       "      <td>1.000000</td>\n",
       "      <td>0.532961</td>\n",
       "      <td>0.239030</td>\n",
       "      <td>0.335774</td>\n",
       "    </tr>\n",
       "    <tr>\n",
       "      <th>North America</th>\n",
       "      <td>0.886212</td>\n",
       "      <td>0.788940</td>\n",
       "      <td>0.532961</td>\n",
       "      <td>1.000000</td>\n",
       "      <td>0.511917</td>\n",
       "      <td>0.849875</td>\n",
       "    </tr>\n",
       "    <tr>\n",
       "      <th>Oceania</th>\n",
       "      <td>0.448894</td>\n",
       "      <td>0.381445</td>\n",
       "      <td>0.239030</td>\n",
       "      <td>0.511917</td>\n",
       "      <td>1.000000</td>\n",
       "      <td>0.419009</td>\n",
       "    </tr>\n",
       "    <tr>\n",
       "      <th>South America</th>\n",
       "      <td>0.855486</td>\n",
       "      <td>0.861818</td>\n",
       "      <td>0.335774</td>\n",
       "      <td>0.849875</td>\n",
       "      <td>0.419009</td>\n",
       "      <td>1.000000</td>\n",
       "    </tr>\n",
       "  </tbody>\n",
       "</table>\n",
       "</div>"
      ],
      "text/plain": [
       "continent        Africa      Asia    Europe  North America   Oceania  \\\n",
       "continent                                                              \n",
       "Africa         1.000000  0.705671  0.284256       0.886212  0.448894   \n",
       "Asia           0.705671  1.000000  0.551060       0.788940  0.381445   \n",
       "Europe         0.284256  0.551060  1.000000       0.532961  0.239030   \n",
       "North America  0.886212  0.788940  0.532961       1.000000  0.511917   \n",
       "Oceania        0.448894  0.381445  0.239030       0.511917  1.000000   \n",
       "South America  0.855486  0.861818  0.335774       0.849875  0.419009   \n",
       "\n",
       "continent      South America  \n",
       "continent                     \n",
       "Africa              0.855486  \n",
       "Asia                0.861818  \n",
       "Europe              0.335774  \n",
       "North America       0.849875  \n",
       "Oceania             0.419009  \n",
       "South America       1.000000  "
      ]
     },
     "execution_count": 4,
     "metadata": {},
     "output_type": "execute_result"
    }
   ],
   "source": [
    "df_needed_format = pd.pivot_table(df, index='date', columns='continent', values='new_cases')\n",
    "df_needed_format.corr() # Таблица с корреляциями"
   ]
  },
  {
   "cell_type": "markdown",
   "id": "493b48d1",
   "metadata": {},
   "source": [
    "## Задача по игре престолов\n",
    "\n",
    "Есть открытый API по вселенной Игры Престолов - https://anapioficeandfire.com/\n",
    "\n",
    "Порешаем задачи с ним."
   ]
  },
  {
   "cell_type": "code",
   "execution_count": 5,
   "id": "5a5c0fbf",
   "metadata": {},
   "outputs": [
    {
     "data": {
      "text/html": [
       "<div>\n",
       "<style scoped>\n",
       "    .dataframe tbody tr th:only-of-type {\n",
       "        vertical-align: middle;\n",
       "    }\n",
       "\n",
       "    .dataframe tbody tr th {\n",
       "        vertical-align: top;\n",
       "    }\n",
       "\n",
       "    .dataframe thead th {\n",
       "        text-align: right;\n",
       "    }\n",
       "</style>\n",
       "<table border=\"1\" class=\"dataframe\">\n",
       "  <thead>\n",
       "    <tr style=\"text-align: right;\">\n",
       "      <th></th>\n",
       "      <th>name</th>\n",
       "      <th>characters</th>\n",
       "    </tr>\n",
       "  </thead>\n",
       "  <tbody>\n",
       "    <tr>\n",
       "      <th>0</th>\n",
       "      <td>A Game of Thrones</td>\n",
       "      <td>[https://anapioficeandfire.com/api/characters/...</td>\n",
       "    </tr>\n",
       "    <tr>\n",
       "      <th>1</th>\n",
       "      <td>A Clash of Kings</td>\n",
       "      <td>[https://anapioficeandfire.com/api/characters/...</td>\n",
       "    </tr>\n",
       "    <tr>\n",
       "      <th>2</th>\n",
       "      <td>A Storm of Swords</td>\n",
       "      <td>[https://anapioficeandfire.com/api/characters/...</td>\n",
       "    </tr>\n",
       "    <tr>\n",
       "      <th>3</th>\n",
       "      <td>The Hedge Knight</td>\n",
       "      <td>[https://anapioficeandfire.com/api/characters/...</td>\n",
       "    </tr>\n",
       "    <tr>\n",
       "      <th>4</th>\n",
       "      <td>A Feast for Crows</td>\n",
       "      <td>[https://anapioficeandfire.com/api/characters/...</td>\n",
       "    </tr>\n",
       "  </tbody>\n",
       "</table>\n",
       "</div>"
      ],
      "text/plain": [
       "                name                                         characters\n",
       "0  A Game of Thrones  [https://anapioficeandfire.com/api/characters/...\n",
       "1   A Clash of Kings  [https://anapioficeandfire.com/api/characters/...\n",
       "2  A Storm of Swords  [https://anapioficeandfire.com/api/characters/...\n",
       "3   The Hedge Knight  [https://anapioficeandfire.com/api/characters/...\n",
       "4  A Feast for Crows  [https://anapioficeandfire.com/api/characters/..."
      ]
     },
     "execution_count": 5,
     "metadata": {},
     "output_type": "execute_result"
    }
   ],
   "source": [
    "import requests\n",
    "\n",
    "response = requests.get('https://anapioficeandfire.com/api/books?pageSize=50')\n",
    "df = pd.DataFrame(response.json())\n",
    "df = df[['name', 'characters']]\n",
    "df.head()"
   ]
  },
  {
   "cell_type": "code",
   "execution_count": 6,
   "id": "40b3edb1",
   "metadata": {},
   "outputs": [
    {
     "data": {
      "text/plain": [
       "['https://anapioficeandfire.com/api/characters/8',\n",
       " 'https://anapioficeandfire.com/api/characters/32',\n",
       " 'https://anapioficeandfire.com/api/characters/35',\n",
       " 'https://anapioficeandfire.com/api/characters/38',\n",
       " 'https://anapioficeandfire.com/api/characters/46']"
      ]
     },
     "execution_count": 6,
     "metadata": {},
     "output_type": "execute_result"
    }
   ],
   "source": [
    "df.iloc[5].characters[:5] #список значений"
   ]
  },
  {
   "cell_type": "code",
   "execution_count": 7,
   "id": "828ecd1b",
   "metadata": {},
   "outputs": [
    {
     "data": {
      "text/html": [
       "<div>\n",
       "<style scoped>\n",
       "    .dataframe tbody tr th:only-of-type {\n",
       "        vertical-align: middle;\n",
       "    }\n",
       "\n",
       "    .dataframe tbody tr th {\n",
       "        vertical-align: top;\n",
       "    }\n",
       "\n",
       "    .dataframe thead th {\n",
       "        text-align: right;\n",
       "    }\n",
       "</style>\n",
       "<table border=\"1\" class=\"dataframe\">\n",
       "  <thead>\n",
       "    <tr style=\"text-align: right;\">\n",
       "      <th></th>\n",
       "      <th>characters</th>\n",
       "      <th>name</th>\n",
       "    </tr>\n",
       "  </thead>\n",
       "  <tbody>\n",
       "    <tr>\n",
       "      <th>0</th>\n",
       "      <td>https://anapioficeandfire.com/api/characters/1</td>\n",
       "      <td>1</td>\n",
       "    </tr>\n",
       "    <tr>\n",
       "      <th>1</th>\n",
       "      <td>https://anapioficeandfire.com/api/characters/10</td>\n",
       "      <td>1</td>\n",
       "    </tr>\n",
       "    <tr>\n",
       "      <th>2</th>\n",
       "      <td>https://anapioficeandfire.com/api/characters/100</td>\n",
       "      <td>3</td>\n",
       "    </tr>\n",
       "    <tr>\n",
       "      <th>3</th>\n",
       "      <td>https://anapioficeandfire.com/api/characters/1000</td>\n",
       "      <td>3</td>\n",
       "    </tr>\n",
       "    <tr>\n",
       "      <th>4</th>\n",
       "      <td>https://anapioficeandfire.com/api/characters/1001</td>\n",
       "      <td>1</td>\n",
       "    </tr>\n",
       "  </tbody>\n",
       "</table>\n",
       "</div>"
      ],
      "text/plain": [
       "                                          characters  name\n",
       "0     https://anapioficeandfire.com/api/characters/1     1\n",
       "1    https://anapioficeandfire.com/api/characters/10     1\n",
       "2   https://anapioficeandfire.com/api/characters/100     3\n",
       "3  https://anapioficeandfire.com/api/characters/1000     3\n",
       "4  https://anapioficeandfire.com/api/characters/1001     1"
      ]
     },
     "execution_count": 7,
     "metadata": {},
     "output_type": "execute_result"
    }
   ],
   "source": [
    "# Делаем explode и оставляем только те колонки, которые понадобятся далее\n",
    "# Обращаю внимание - после explode желательно делать ресет индекса, потому что индекс останется старым (см. пример с explode)\n",
    "exploded_df = df.explode('characters').reset_index(drop=True)\n",
    "\n",
    "# Группируем по id персонажа и считаем сколько раз персонаж встречается\n",
    "char_freq_df = exploded_df.groupby('characters').count().reset_index()\n",
    "char_freq_df.head()"
   ]
  },
  {
   "cell_type": "markdown",
   "id": "999f4658",
   "metadata": {},
   "source": [
    "Чтобы найти персонажа, который участвовал максимальное количество раз, профильтруем датафрейм по максимальному значению."
   ]
  },
  {
   "cell_type": "code",
   "execution_count": 9,
   "id": "df24c139",
   "metadata": {},
   "outputs": [
    {
     "data": {
      "text/html": [
       "<div>\n",
       "<style scoped>\n",
       "    .dataframe tbody tr th:only-of-type {\n",
       "        vertical-align: middle;\n",
       "    }\n",
       "\n",
       "    .dataframe tbody tr th {\n",
       "        vertical-align: top;\n",
       "    }\n",
       "\n",
       "    .dataframe thead th {\n",
       "        text-align: right;\n",
       "    }\n",
       "</style>\n",
       "<table border=\"1\" class=\"dataframe\">\n",
       "  <thead>\n",
       "    <tr style=\"text-align: right;\">\n",
       "      <th></th>\n",
       "      <th>characters</th>\n",
       "      <th>name</th>\n",
       "    </tr>\n",
       "  </thead>\n",
       "  <tbody>\n",
       "    <tr>\n",
       "      <th>1442</th>\n",
       "      <td>https://anapioficeandfire.com/api/characters/38</td>\n",
       "      <td>10</td>\n",
       "    </tr>\n",
       "  </tbody>\n",
       "</table>\n",
       "</div>"
      ],
      "text/plain": [
       "                                           characters  name\n",
       "1442  https://anapioficeandfire.com/api/characters/38    10"
      ]
     },
     "execution_count": 9,
     "metadata": {},
     "output_type": "execute_result"
    }
   ],
   "source": [
    "char_freq_df[char_freq_df['name'] == char_freq_df['name'].max()]"
   ]
  },
  {
   "cell_type": "markdown",
   "id": "f7bfeb8c",
   "metadata": {},
   "source": [
    "Далее, чтобы узнать что это за персонаж, достаточно перейти по ссылке и посмотреть json."
   ]
  },
  {
   "cell_type": "markdown",
   "id": "b542feac",
   "metadata": {},
   "source": [
    "# Matplotlib"
   ]
  },
  {
   "cell_type": "markdown",
   "id": "dee3c33a",
   "metadata": {},
   "source": [
    "## Задание - нарисовать $n$ линий\n",
    "\n",
    "Написать функцию, которая на вход принимает параметр $n$ и рисует $n$ графиков по такому приципу:\n",
    "\n",
    "$$y = x$$\n",
    "$$y = 2x$$\n",
    "$$y = 3x$$\n",
    "$$...$$\n",
    "$$y = nx$$"
   ]
  },
  {
   "cell_type": "code",
   "execution_count": 27,
   "id": "05c723db",
   "metadata": {},
   "outputs": [],
   "source": [
    "def draw_lines(n):\n",
    "    x = np.linspace(-5, 5, 100)\n",
    "    for i in range(n):\n",
    "        plt.plot(x, i * x)"
   ]
  },
  {
   "cell_type": "code",
   "execution_count": 28,
   "id": "475e071e",
   "metadata": {},
   "outputs": [
    {
     "data": {
      "image/png": "[encoded data removed]",
      "text/plain": [
       "<Figure size 432x288 with 1 Axes>"
      ]
     },
     "metadata": {
      "needs_background": "light"
     },
     "output_type": "display_data"
    }
   ],
   "source": [
    "draw_lines(500)"
   ]
  },
  {
   "cell_type": "markdown",
   "id": "d81b1f33",
   "metadata": {},
   "source": [
    "## Задача\n",
    "\n",
    "По заданным точкам нарисовать квадрат.\n",
    "\n"
   ]
  },
  {
   "cell_type": "code",
   "execution_count": 29,
   "id": "677621de",
   "metadata": {},
   "outputs": [],
   "source": [
    "square_coord = [\n",
    "    (0, 0),\n",
    "    (1, 0),\n",
    "    (1, 1),\n",
    "    (0, 1)\n",
    "]"
   ]
  },
  {
   "cell_type": "code",
   "execution_count": 30,
   "id": "68ca05c0",
   "metadata": {},
   "outputs": [
    {
     "data": {
      "image/png": "[encoded data removed]",
      "text/plain": [
       "<Figure size 432x288 with 1 Axes>"
      ]
     },
     "metadata": {
      "needs_background": "light"
     },
     "output_type": "display_data"
    }
   ],
   "source": [
    "for i in range(len(square_coord)):\n",
    "    x1, y1 = square_coord[i - 1]\n",
    "    x2, y2 = square_coord[i]\n",
    "    plt.plot([x1, x2], [y1, y2], color='g')"
   ]
  },
  {
   "cell_type": "markdown",
   "id": "eb933c6a",
   "metadata": {},
   "source": [
    "Можно оформить код в функцию и он будет рисовать любую замкнутую фигуру"
   ]
  },
  {
   "cell_type": "code",
   "execution_count": 31,
   "id": "18341e2f",
   "metadata": {},
   "outputs": [],
   "source": [
    "def draw_figure(coords):\n",
    "    for i in range(len(coords)):\n",
    "        x1, y1 = coords[i - 1]\n",
    "        x2, y2 = coords[i]\n",
    "        plt.plot([x1, x2], [y1, y2], color='g')"
   ]
  },
  {
   "cell_type": "code",
   "execution_count": 32,
   "id": "f5ba7a2e",
   "metadata": {},
   "outputs": [
    {
     "data": {
      "image/png": "[encoded data removed]",
      "text/plain": [
       "<Figure size 432x288 with 1 Axes>"
      ]
     },
     "metadata": {
      "needs_background": "light"
     },
     "output_type": "display_data"
    }
   ],
   "source": [
    "star_coords = [\n",
    "    (-9, 2),\n",
    "    (-3, 3),\n",
    "    (0, 8),\n",
    "    (3, 3), \n",
    "    (9, 2),\n",
    "    (5, -3),\n",
    "    (6, -9),\n",
    "    (0, -7),\n",
    "    (-6, -9),\n",
    "    (-5, -3)\n",
    "]\n",
    "draw_figure(star_coords)"
   ]
  },
  {
   "cell_type": "markdown",
   "id": "695fd200",
   "metadata": {},
   "source": [
    "## Задача\n",
    "\n",
    "Дана СЛАУ второго порядка, нужно отобразить на графике линии и точку их пересечения\n",
    "\n",
    "$$a_{11}x + a_{12}y = b_1$$\n",
    "$$a_{21}x + a_{22}y = b_2$$\n",
    "\n"
   ]
  },
  {
   "cell_type": "markdown",
   "id": "bd420288",
   "metadata": {},
   "source": [
    "## Решение\n",
    "\n",
    "Мы можем нарисовать линию такого вида:\n",
    "\n",
    "$y = kx + b$\n",
    "\n",
    "Для этого можем привести каждое из уравнений выше к такому виду:\n",
    "\n",
    "$y = \\frac{(b_1 - a_{11}x)}{a_{12}}$\n",
    "\n",
    "$y = \\frac{(b_2 - a_{21}x)}{a_{22}}$\n",
    "\n",
    "Чтобы использовать эти формулы, нужно чтобы коэфициенты $a_{12}, a_{22}$ были не равны 0 (на 0 делить нельзя).\n",
    "\n",
    "Как будет выглядеть уравнение, если обнулить коэфициенты?\n",
    "\n",
    "$a_{11}x = b1$\n",
    "\n",
    "$a_{21}x = b2$\n",
    "\n",
    "В таком случае графики будут вертикальными линиями с иксами $\\frac{b1}{a_{11}}$ и $\\frac{a_{21}}{b2}$\n",
    "\n",
    "Можно писать код. Сначала напишем функцию, которая принимает на вход строку из матрицы (массив $[a_{11}, a_{12}]$, например), а также значение $b$. "
   ]
  },
  {
   "cell_type": "code",
   "execution_count": 33,
   "id": "f58870b0",
   "metadata": {},
   "outputs": [
    {
     "data": {
      "text/plain": [
       "array([3., 2.])"
      ]
     },
     "execution_count": 33,
     "metadata": {},
     "output_type": "execute_result"
    }
   ],
   "source": [
    "A = np.array([[1, 0], [0, 1]])\n",
    "b = np.array([3, 2])\n",
    "\n",
    "solution = np.linalg.solve(A, b)\n",
    "solution"
   ]
  },
  {
   "cell_type": "code",
   "execution_count": 34,
   "id": "0c140bfc",
   "metadata": {},
   "outputs": [],
   "source": [
    "def draw_line(a_row, b):\n",
    "    # Будем рисовать от -50 до 50\n",
    "    x = np.linspace(-50, 50, 100)\n",
    "    if a_row[1] == 0:\n",
    "        # Если коэфициент 0, рисуем вертикальную линию от -50 до 50\n",
    "        y = [-50, 50]\n",
    "        x_value = b / a_row[0]\n",
    "        x = [x_value, x_value]\n",
    "    else:\n",
    "        # Если не 0, то используем обычную формулу\n",
    "        y = (b - a_row[0] * x) / a_row[1]\n",
    "    plt.plot(x, y)"
   ]
  },
  {
   "cell_type": "markdown",
   "id": "36fbf367",
   "metadata": {},
   "source": [
    "Будем передавать сначала первую строку:"
   ]
  },
  {
   "cell_type": "code",
   "execution_count": 35,
   "id": "e2171a5d",
   "metadata": {},
   "outputs": [
    {
     "data": {
      "text/plain": [
       "array([1, 0])"
      ]
     },
     "execution_count": 35,
     "metadata": {},
     "output_type": "execute_result"
    }
   ],
   "source": [
    "A[0, :]"
   ]
  },
  {
   "cell_type": "markdown",
   "id": "72bc9133",
   "metadata": {},
   "source": [
    "Затем вторую:"
   ]
  },
  {
   "cell_type": "code",
   "execution_count": 36,
   "id": "6f118236",
   "metadata": {},
   "outputs": [
    {
     "data": {
      "text/plain": [
       "array([0, 1])"
      ]
     },
     "execution_count": 36,
     "metadata": {},
     "output_type": "execute_result"
    }
   ],
   "source": [
    "A[1, :]"
   ]
  },
  {
   "cell_type": "markdown",
   "id": "13b800fb",
   "metadata": {},
   "source": [
    "Получим вот такие линии:"
   ]
  },
  {
   "cell_type": "code",
   "execution_count": 37,
   "id": "66545fab",
   "metadata": {},
   "outputs": [
    {
     "data": {
      "text/plain": [
       "<matplotlib.collections.PathCollection at 0x1f0799c9130>"
      ]
     },
     "execution_count": 37,
     "metadata": {},
     "output_type": "execute_result"
    },
    {
     "data": {
      "image/png": "[encoded data removed]",
      "text/plain": [
       "<Figure size 432x288 with 1 Axes>"
      ]
     },
     "metadata": {
      "needs_background": "light"
     },
     "output_type": "display_data"
    }
   ],
   "source": [
    "draw_line(A[0, :], b[0])\n",
    "draw_line(A[1, :], b[1])\n",
    "\n",
    "# Нарисуем также точку пересечения\n",
    "plt.scatter([solution[0]], [solution[1]], marker='x', s=100, c='r')"
   ]
  },
  {
   "cell_type": "markdown",
   "id": "19e3c6f3",
   "metadata": {},
   "source": [
    "Можем оформить итоговое решение в функцию, которая будет принимать массивы A и b и рисовать по ним график"
   ]
  },
  {
   "cell_type": "code",
   "execution_count": 38,
   "id": "df2063ea",
   "metadata": {},
   "outputs": [],
   "source": [
    "def draw_linear_solution(A, b):\n",
    "    solution = np.linalg.solve(A, b)\n",
    "    draw_line(A[0, :], b[0])\n",
    "    draw_line(A[1, :], b[1])\n",
    "\n",
    "    # Нарисуем также точку пересечения\n",
    "    plt.scatter([solution[0]], [solution[1]], marker='x', s=100, c='r')"
   ]
  },
  {
   "cell_type": "code",
   "execution_count": 39,
   "id": "1ddb41c9",
   "metadata": {},
   "outputs": [
    {
     "data": {
      "image/png": "[encoded data removed]",
      "text/plain": [
       "<Figure size 432x288 with 1 Axes>"
      ]
     },
     "metadata": {
      "needs_background": "light"
     },
     "output_type": "display_data"
    }
   ],
   "source": [
    "A = np.array([[3, 10], [1, 5]])\n",
    "b = np.array([1, 20])\n",
    "draw_linear_solution(A, b)"
   ]
  },
  {
   "cell_type": "markdown",
   "id": "dac37ef4",
   "metadata": {},
   "source": [
    "Добавим слайдер\n",
    "\n",
    "Для этого необходимо установить `ipywidgets`:\n",
    "\n",
    "```\n",
    "conda install ipywidgets\n",
    "```"
   ]
  },
  {
   "cell_type": "code",
   "execution_count": 40,
   "id": "5c7999d1",
   "metadata": {},
   "outputs": [],
   "source": [
    "%matplotlib inline\n",
    "from ipywidgets import interact\n",
    "import ipywidgets as widgets"
   ]
  },
  {
   "cell_type": "markdown",
   "id": "6ca9954a",
   "metadata": {},
   "source": [
    "Если посмотреть примеры, то на вход функции должны поступать числа. Напишем функцию, которая будет принимать на вход числа, преобразовывать их в матрицу и передавать в функцию, которую мы написали раньше."
   ]
  },
  {
   "cell_type": "code",
   "execution_count": 41,
   "id": "443f86ee",
   "metadata": {},
   "outputs": [],
   "source": [
    "def draw_linear_from_numbers(a11, a12, a21, a22, b1, b2):\n",
    "    A = np.array([[a11, a12], [a21, a22]])\n",
    "    b = np.array([b1, b2])\n",
    "    draw_linear_solution(A, b)\n",
    "    # Для красоты зафиксируем положение графика\n",
    "    plt.xlim(-50, 50)\n",
    "    plt.ylim(-50, 50)"
   ]
  },
  {
   "cell_type": "markdown",
   "id": "d5f236e9",
   "metadata": {},
   "source": [
    "Создаем слайдеры"
   ]
  },
  {
   "cell_type": "code",
   "execution_count": 42,
   "id": "f06fcda9",
   "metadata": {},
   "outputs": [],
   "source": [
    "slider1 = widgets.FloatSlider(value=1, min=-5, max=5, step=0.01)\n",
    "slider2 = widgets.FloatSlider(value=0, min=-5, max=5, step=0.01)\n",
    "slider3 = widgets.FloatSlider(value=0, min=-5, max=5, step=0.01)\n",
    "slider4 = widgets.FloatSlider(value=1, min=-5, max=5, step=0.01)\n",
    "slider5 = widgets.FloatSlider(value=3, min=-5, max=5, step=0.01)\n",
    "slider6 = widgets.FloatSlider(value=2, min=-5, max=5, step=0.01)"
   ]
  },
  {
   "cell_type": "markdown",
   "id": "ef1514d7",
   "metadata": {},
   "source": [
    "Передаем в функцию `interact` нашу функцию и какие слайдеры будут отвечать за какие аргументы"
   ]
  },
  {
   "cell_type": "code",
   "execution_count": null,
   "id": "4daab4a6",
   "metadata": {},
   "outputs": [
    {
     "data": {
      "image/png": "[encoded data removed]",
      "text/plain": [
       "<Figure size 432x288 with 1 Axes>"
      ]
     },
     "metadata": {
      "needs_background": "light"
     },
     "output_type": "display_data"
    },
    {
     "data": {
      "text/plain": [
       "<function __main__.draw_linear_from_numbers(a11, a12, a21, a22, b1, b2)>"
      ]
     },
     "execution_count": 45,
     "metadata": {},
     "output_type": "execute_result"
    }
   ],
   "source": [
    "interact(draw_linear_from_numbers, a11=slider1, a12=slider2, a21=slider3, a22=slider4, b1=slider5, b2=slider6)"
   ]
  },
  {
   "cell_type": "code",
   "execution_count": 11,
   "id": "cece0472",
   "metadata": {},
   "outputs": [],
   "source": [
    "import seaborn as sns"
   ]
  },
  {
   "cell_type": "markdown",
   "id": "80cca21e",
   "metadata": {},
   "source": [
    "## Задача\n",
    "Воспользоваться набором данных tips\n",
    "\n",
    "1. Создать новую колонку - отношение чаевых ко всему счету\n",
    "2. Построить гистограмму распределения новой колонки\n",
    "3. Посмотреть меняется ли процент чаевых в зависимости от времени дня (колонка time, параметр hue)\n",
    "4. Посмотреть на bar plot колличество чаевых в зависимости от дня недели"
   ]
  },
  {
   "cell_type": "code",
   "execution_count": 12,
   "id": "5cd8c460",
   "metadata": {},
   "outputs": [
    {
     "data": {
      "text/html": [
       "<div>\n",
       "<style scoped>\n",
       "    .dataframe tbody tr th:only-of-type {\n",
       "        vertical-align: middle;\n",
       "    }\n",
       "\n",
       "    .dataframe tbody tr th {\n",
       "        vertical-align: top;\n",
       "    }\n",
       "\n",
       "    .dataframe thead th {\n",
       "        text-align: right;\n",
       "    }\n",
       "</style>\n",
       "<table border=\"1\" class=\"dataframe\">\n",
       "  <thead>\n",
       "    <tr style=\"text-align: right;\">\n",
       "      <th></th>\n",
       "      <th>total_bill</th>\n",
       "      <th>tip</th>\n",
       "      <th>sex</th>\n",
       "      <th>smoker</th>\n",
       "      <th>day</th>\n",
       "      <th>time</th>\n",
       "      <th>size</th>\n",
       "      <th>tip_percentage</th>\n",
       "    </tr>\n",
       "  </thead>\n",
       "  <tbody>\n",
       "    <tr>\n",
       "      <th>0</th>\n",
       "      <td>16.99</td>\n",
       "      <td>1.01</td>\n",
       "      <td>Female</td>\n",
       "      <td>No</td>\n",
       "      <td>Sun</td>\n",
       "      <td>Dinner</td>\n",
       "      <td>2</td>\n",
       "      <td>0.059447</td>\n",
       "    </tr>\n",
       "    <tr>\n",
       "      <th>1</th>\n",
       "      <td>10.34</td>\n",
       "      <td>1.66</td>\n",
       "      <td>Male</td>\n",
       "      <td>No</td>\n",
       "      <td>Sun</td>\n",
       "      <td>Dinner</td>\n",
       "      <td>3</td>\n",
       "      <td>0.160542</td>\n",
       "    </tr>\n",
       "    <tr>\n",
       "      <th>2</th>\n",
       "      <td>21.01</td>\n",
       "      <td>3.50</td>\n",
       "      <td>Male</td>\n",
       "      <td>No</td>\n",
       "      <td>Sun</td>\n",
       "      <td>Dinner</td>\n",
       "      <td>3</td>\n",
       "      <td>0.166587</td>\n",
       "    </tr>\n",
       "    <tr>\n",
       "      <th>3</th>\n",
       "      <td>23.68</td>\n",
       "      <td>3.31</td>\n",
       "      <td>Male</td>\n",
       "      <td>No</td>\n",
       "      <td>Sun</td>\n",
       "      <td>Dinner</td>\n",
       "      <td>2</td>\n",
       "      <td>0.139780</td>\n",
       "    </tr>\n",
       "    <tr>\n",
       "      <th>4</th>\n",
       "      <td>24.59</td>\n",
       "      <td>3.61</td>\n",
       "      <td>Female</td>\n",
       "      <td>No</td>\n",
       "      <td>Sun</td>\n",
       "      <td>Dinner</td>\n",
       "      <td>4</td>\n",
       "      <td>0.146808</td>\n",
       "    </tr>\n",
       "  </tbody>\n",
       "</table>\n",
       "</div>"
      ],
      "text/plain": [
       "   total_bill   tip     sex smoker  day    time  size  tip_percentage\n",
       "0       16.99  1.01  Female     No  Sun  Dinner     2        0.059447\n",
       "1       10.34  1.66    Male     No  Sun  Dinner     3        0.160542\n",
       "2       21.01  3.50    Male     No  Sun  Dinner     3        0.166587\n",
       "3       23.68  3.31    Male     No  Sun  Dinner     2        0.139780\n",
       "4       24.59  3.61  Female     No  Sun  Dinner     4        0.146808"
      ]
     },
     "execution_count": 12,
     "metadata": {},
     "output_type": "execute_result"
    }
   ],
   "source": [
    "# 1-загрузии данные, создали новую колонку\n",
    "tips_df = sns.load_dataset('tips')\n",
    "tips_df[\"tip_percentage\"] = tips_df[\"tip\"] / tips_df[\"total_bill\"]\n",
    "tips_df.head()"
   ]
  },
  {
   "cell_type": "code",
   "execution_count": 13,
   "id": "eec7aa73",
   "metadata": {},
   "outputs": [
    {
     "data": {
      "text/plain": [
       "<AxesSubplot:xlabel='tip_percentage', ylabel='Count'>"
      ]
     },
     "execution_count": 13,
     "metadata": {},
     "output_type": "execute_result"
    },
    {
     "data": {
      "image/png": "[encoded data removed]",
      "text/plain": [
       "<Figure size 432x288 with 1 Axes>"
      ]
     },
     "metadata": {
      "needs_background": "light"
     },
     "output_type": "display_data"
    }
   ],
   "source": [
    "# 2-гистограмма распределения новой колонки\n",
    "sns.histplot(tips_df[\"tip_percentage\"], binwidth=0.05)"
   ]
  },
  {
   "cell_type": "code",
   "execution_count": 14,
   "id": "09da8576",
   "metadata": {},
   "outputs": [
    {
     "data": {
      "text/plain": [
       "<AxesSubplot:xlabel='tip_percentage', ylabel='Count'>"
      ]
     },
     "execution_count": 14,
     "metadata": {},
     "output_type": "execute_result"
    },
    {
     "data": {
      "image/png": "[encoded data removed]",
      "text/plain": [
       "<Figure size 432x288 with 1 Axes>"
      ]
     },
     "metadata": {
      "needs_background": "light"
     },
     "output_type": "display_data"
    }
   ],
   "source": [
    "# 3-меняется ли процент чаевых в зависимости от времени дня.\n",
    "sns.histplot(data=tips_df, x=\"tip_percentage\", binwidth=0.05, hue=\"time\")"
   ]
  },
  {
   "cell_type": "code",
   "execution_count": 15,
   "id": "6c46feef",
   "metadata": {},
   "outputs": [
    {
     "data": {
      "text/plain": [
       "<AxesSubplot:xlabel='day', ylabel='tip'>"
      ]
     },
     "execution_count": 15,
     "metadata": {},
     "output_type": "execute_result"
    },
    {
     "data": {
      "image/png": "[encoded data removed]",
      "text/plain": [
       "<Figure size 432x288 with 1 Axes>"
      ]
     },
     "metadata": {
      "needs_background": "light"
     },
     "output_type": "display_data"
    }
   ],
   "source": [
    "# 4- количество чаевых, которые получает персонал в зависимости от дня недели.\n",
    "sns.barplot(data=tips_df, x=\"day\", y=\"tip\", estimator=np.sum)"
   ]
  },
  {
   "cell_type": "code",
   "execution_count": null,
   "id": "f10e8a84",
   "metadata": {},
   "outputs": [],
   "source": []
  }
 ],
 "metadata": {
  "kernelspec": {
   "display_name": "Python 3 (ipykernel)",
   "language": "python",
   "name": "python3"
  },
  "language_info": {
   "codemirror_mode": {
    "name": "ipython",
    "version": 3
   },
   "file_extension": ".py",
   "mimetype": "text/x-python",
   "name": "python",
   "nbconvert_exporter": "python",
   "pygments_lexer": "ipython3",
   "version": "3.9.7"
  }
 },
 "nbformat": 4,
 "nbformat_minor": 5
}
