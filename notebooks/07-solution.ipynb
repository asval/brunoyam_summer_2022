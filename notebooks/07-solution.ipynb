{
 "cells": [
  {
   "cell_type": "code",
   "execution_count": 3,
   "id": "43dea962-5877-4cf9-b527-cad46bfabd05",
   "metadata": {},
   "outputs": [],
   "source": [
    "from sklearn.datasets import load_boston\n",
    "from sklearn.linear_model import LinearRegression, Ridge, Lasso\n",
    "from sklearn.model_selection import train_test_split\n",
    "from sklearn.metrics import mean_squared_error\n",
    "import pandas as pd\n",
    "import numpy as np\n",
    "import seaborn as sns\n",
    "import matplotlib.pyplot as plt"
   ]
  },
  {
   "cell_type": "markdown",
   "id": "e70ed6fd-72a6-422a-b081-d5a893ffda35",
   "metadata": {},
   "source": [
    "# Загрузим первый датасет"
   ]
  },
  {
   "cell_type": "code",
   "execution_count": 6,
   "id": "bb58ad71-1428-459e-948d-ca98335d1952",
   "metadata": {},
   "outputs": [],
   "source": [
    "data = load_boston()\n",
    "x_df = pd.DataFrame(data['data'], columns=data['feature_names'])\n",
    "y_df = pd.DataFrame(data['target'], columns=['y'])"
   ]
  },
  {
   "cell_type": "markdown",
   "id": "d8040497-07f7-4f9d-886a-d4d5f638c722",
   "metadata": {},
   "source": [
    "## Задача*\n",
    "\n",
    "С помощью модели полиномиальной регрессии построить прогноз цены по признаку LSTAT.\n",
    "\n",
    "В sklearn нет модели полиномиальной регрессии, но она почти не отличается от линейной регрессии в плане поиска коэфициентов.\n",
    "\n",
    "Линейная модель:\n",
    "\n",
    "$$y = a_1 x + b$$\n",
    "\n",
    "Полиномиальная модель:\n",
    "\n",
    "$$y = a_1 x + a_2 x^2 + b$$\n",
    "\n",
    "То есть, можем добавить столбец 'LSTAT^2' и использовать его для прогнозирования вместе со столбцом 'LSTAT'"
   ]
  },
  {
   "cell_type": "code",
   "execution_count": 21,
   "id": "23597786-e24f-4c44-b5ff-8c412aabd28d",
   "metadata": {},
   "outputs": [],
   "source": [
    "def plot_graphs(x_test, y_test, y_pred):\n",
    "    plt.figure()\n",
    "    plt.xlabel('LSTAT')\n",
    "    plt.ylabel('target')\n",
    "    plt.scatter(x_test['LSTAT'], y_pred)\n",
    "    plt.scatter(x_test['LSTAT'], y_test)\n",
    "    plt.legend(['Прогноз', 'Факт'])\n",
    "\n",
    "    plt.figure()\n",
    "    plt.scatter(y_pred, y_test)\n",
    "    plt.xlabel('Прогнозные значения')\n",
    "    plt.ylabel('Фактические значения')\n",
    "    plt.show()"
   ]
  },
  {
   "cell_type": "code",
   "execution_count": 22,
   "id": "906cf7b2-2bfe-403d-933d-84e228cdfaf2",
   "metadata": {},
   "outputs": [
    {
     "name": "stdout",
     "output_type": "stream",
     "text": [
      "Score (MSE) = 25.136045871043063\n"
     ]
    },
    {
     "data": {
      "image/png": "[encoded data removed]",
      "text/plain": [
       "<Figure size 432x288 with 1 Axes>"
      ]
     },
     "metadata": {
      "needs_background": "light"
     },
     "output_type": "display_data"
    },
    {
     "data": {
      "image/png": "[encoded data removed]",
      "text/plain": [
       "<Figure size 432x288 with 1 Axes>"
      ]
     },
     "metadata": {
      "needs_background": "light"
     },
     "output_type": "display_data"
    }
   ],
   "source": [
    "# Добавим столбец в исходный датафрейм X\n",
    "x_df['LSTAT^2'] = x_df['LSTAT'] ** 2\n",
    "\n",
    "# Разобьем на треин и тест выборки\n",
    "x_train, x_test, y_train, y_test = train_test_split(x_df, y_df, train_size=0.8)\n",
    "\n",
    "# Построим модель и получим прогноз\n",
    "model = LinearRegression()\n",
    "model.fit(x_train[['LSTAT', 'LSTAT^2']], y_train)\n",
    "y_pred = model.predict(x_test[['LSTAT', 'LSTAT^2']])\n",
    "score = mean_squared_error(y_pred, y_test)\n",
    "print(f'Score (MSE) = {score}')\n",
    "\n",
    "# Выведем графики\n",
    "plot_graphs(x_test, y_test, y_pred)"
   ]
  },
  {
   "cell_type": "markdown",
   "id": "f7748c24",
   "metadata": {},
   "source": [
    "### Задача\n",
    "Проверить наличие мультиколлениарности в датасете Boston. Если она есть выкинуть признаки из набора данных"
   ]
  },
  {
   "cell_type": "code",
   "execution_count": null,
   "id": "e122e7ff",
   "metadata": {},
   "outputs": [],
   "source": [
    "df_corr = x_df.corr()\n",
    "df_corr"
   ]
  },
  {
   "cell_type": "code",
   "execution_count": null,
   "id": "1bbe2905",
   "metadata": {},
   "outputs": [],
   "source": [
    "df_corr[(np.abs(df_corr) > 0.8)]"
   ]
  },
  {
   "cell_type": "code",
   "execution_count": null,
   "id": "b33c7486",
   "metadata": {},
   "outputs": [],
   "source": [
    "x_df = x_df.drop(columns=['TAX'])\n",
    "x_df"
   ]
  },
  {
   "cell_type": "markdown",
   "id": "7861309a-7328-4ddd-92e5-fb82d15b536d",
   "metadata": {},
   "source": [
    "# Загрузим второй датасет"
   ]
  },
  {
   "cell_type": "code",
   "execution_count": 27,
   "id": "e54cebf0-77c0-4a51-b3e1-49c0c75db72a",
   "metadata": {},
   "outputs": [],
   "source": [
    "from sklearn.datasets import load_digits\n",
    "from sklearn.linear_model import LogisticRegression\n",
    "from sklearn.metrics import accuracy_score, confusion_matrix"
   ]
  },
  {
   "cell_type": "code",
   "execution_count": 26,
   "id": "64b0cd4e-3ce9-4180-aad6-91ad73b1112c",
   "metadata": {},
   "outputs": [],
   "source": [
    "data = load_digits()\n",
    "x = data.data\n",
    "y = data.target\n",
    "x = (x - x.mean()) / x.std()"
   ]
  },
  {
   "cell_type": "code",
   "execution_count": 28,
   "id": "1eae826c-b102-40a9-8be4-7e48bd84f9a4",
   "metadata": {},
   "outputs": [],
   "source": [
    "x_train, x_test, y_train, y_test = train_test_split(x, y, train_size=0.8)"
   ]
  },
  {
   "cell_type": "markdown",
   "id": "de3e4d09-cd8a-4671-a6b4-dfbb823e45a0",
   "metadata": {},
   "source": [
    "### Задача\n",
    "Обучить линейную регрессию, посмотреть на точность модели на отложенной выборке"
   ]
  },
  {
   "cell_type": "code",
   "execution_count": 33,
   "id": "99470eb2-e6b0-4596-aed5-6730d1cc5643",
   "metadata": {},
   "outputs": [
    {
     "data": {
      "text/plain": [
       "0.8638888888888889"
      ]
     },
     "execution_count": 33,
     "metadata": {},
     "output_type": "execute_result"
    }
   ],
   "source": [
    "model = LogisticRegression(max_iter=1000)\n",
    "model.fit(x_train, y_train)\n",
    "y_pred = model.predict(x_test)\n",
    "accuracy_score(y_pred, y_test)"
   ]
  },
  {
   "cell_type": "code",
   "execution_count": 36,
   "id": "89a86b63-aecd-4f2c-bb4f-f0ded752efc6",
   "metadata": {},
   "outputs": [
    {
     "data": {
      "text/plain": [
       "array([[45,  0,  0,  0,  1,  0,  0,  0,  0,  0],\n",
       "       [ 0, 26,  0,  1,  0,  0,  0,  0,  0,  2],\n",
       "       [ 0,  0, 28,  0,  1,  0,  2,  0,  2,  1],\n",
       "       [ 0,  0,  0, 39,  1,  0,  1,  0,  1,  1],\n",
       "       [ 0,  2,  0,  1, 19,  1,  1,  1,  1,  0],\n",
       "       [ 0,  0,  0,  0,  1, 41,  1,  0,  1,  2],\n",
       "       [ 0,  0,  0,  0,  4,  0, 29,  0,  0,  1],\n",
       "       [ 0,  0,  0,  0,  2,  1,  0, 33,  1,  0],\n",
       "       [ 0,  1,  1,  3,  1,  1,  0,  0, 20,  1],\n",
       "       [ 0,  2,  0,  0,  0,  2,  0,  0,  2, 31]], dtype=int64)"
      ]
     },
     "execution_count": 36,
     "metadata": {},
     "output_type": "execute_result"
    }
   ],
   "source": [
    "df_confusion = confusion_matrix(y_test, y_pred)\n",
    "df_confusion"
   ]
  },
  {
   "cell_type": "code",
   "execution_count": null,
   "id": "016cf4da",
   "metadata": {},
   "outputs": [],
   "source": [
    "def plot_confusion_matrix(df_confusion, title='Confusion matrix', cmap=plt.cm.gray_r):\n",
    "    plt.matshow(df_confusion, cmap=cmap) # imshow\n",
    "    #plt.title(title)\n",
    "    plt.colorbar()\n",
    "    tick_marks = np.arange(len(df_confusion.columns))\n",
    "    plt.xticks(tick_marks, df_confusion.columns, rotation=45)\n",
    "    plt.yticks(tick_marks, df_confusion.index)\n",
    "    #plt.tight_layout()\n",
    "    plt.ylabel(df_confusion.index.name)\n",
    "    plt.xlabel(df_confusion.columns.name)\n",
    "\n",
    "plot_confusion_matrix(df_confusion)"
   ]
  },
  {
   "cell_type": "code",
   "execution_count": 34,
   "id": "218f9da2-aff6-49ec-8f0a-adae583371f5",
   "metadata": {},
   "outputs": [],
   "source": [
    "def plot_wrong_classified(x_test, y_test, y_pred, plot_first=5):\n",
    "    wrong_index = y_pred != y_test\n",
    "    real_y = y_test[wrong_index]\n",
    "    predicted_y = y_pred[wrong_index]\n",
    "    wrong_classified = x_test[wrong_index]\n",
    "    for i in range(plot_first):\n",
    "        plt.matshow(wrong_classified[i].reshape(8, 8))\n",
    "        plt.title(f'real={real_y[i]}, predicted={predicted_y[i]}')"
   ]
  },
  {
   "cell_type": "code",
   "execution_count": 35,
   "id": "2282ee5c-f173-4dbd-ac0e-3ecb3554d0ec",
   "metadata": {},
   "outputs": [
    {
     "data": {
      "image/png": "[encoded data removed]",
      "text/plain": [
       "<Figure size 288x288 with 1 Axes>"
      ]
     },
     "metadata": {
      "needs_background": "light"
     },
     "output_type": "display_data"
    },
    {
     "data": {
      "image/png": "[encoded data removed]",
      "text/plain": [
       "<Figure size 288x288 with 1 Axes>"
      ]
     },
     "metadata": {
      "needs_background": "light"
     },
     "output_type": "display_data"
    },
    {
     "data": {
      "image/png": "[encoded data removed]",
      "text/plain": [
       "<Figure size 288x288 with 1 Axes>"
      ]
     },
     "metadata": {
      "needs_background": "light"
     },
     "output_type": "display_data"
    },
    {
     "data": {
      "image/png": "[encoded data removed]",
      "text/plain": [
       "<Figure size 288x288 with 1 Axes>"
      ]
     },
     "metadata": {
      "needs_background": "light"
     },
     "output_type": "display_data"
    },
    {
     "data": {
      "image/png": "[encoded data removed]",
      "text/plain": [
       "<Figure size 288x288 with 1 Axes>"
      ]
     },
     "metadata": {
      "needs_background": "light"
     },
     "output_type": "display_data"
    }
   ],
   "source": [
    "plot_wrong_classified(x_test, y_test, y_pred)"
   ]
  }
 ],
 "metadata": {
  "kernelspec": {
   "display_name": "Python 3 (ipykernel)",
   "language": "python",
   "name": "python3"
  },
  "language_info": {
   "codemirror_mode": {
    "name": "ipython",
    "version": 3
   },
   "file_extension": ".py",
   "mimetype": "text/x-python",
   "name": "python",
   "nbconvert_exporter": "python",
   "pygments_lexer": "ipython3",
   "version": "3.9.7"
  }
 },
 "nbformat": 4,
 "nbformat_minor": 5
}
