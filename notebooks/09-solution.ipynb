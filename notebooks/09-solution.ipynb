{
 "cells": [
  {
   "cell_type": "code",
   "execution_count": 2,
   "id": "de3e2400",
   "metadata": {},
   "outputs": [],
   "source": [
    "import pandas as pd\n",
    "import numpy as np\n",
    "import seaborn as sns"
   ]
  },
  {
   "cell_type": "code",
   "execution_count": 3,
   "id": "469076e8",
   "metadata": {},
   "outputs": [
    {
     "data": {
      "text/html": [
       "<div>\n",
       "<style scoped>\n",
       "    .dataframe tbody tr th:only-of-type {\n",
       "        vertical-align: middle;\n",
       "    }\n",
       "\n",
       "    .dataframe tbody tr th {\n",
       "        vertical-align: top;\n",
       "    }\n",
       "\n",
       "    .dataframe thead th {\n",
       "        text-align: right;\n",
       "    }\n",
       "</style>\n",
       "<table border=\"1\" class=\"dataframe\">\n",
       "  <thead>\n",
       "    <tr style=\"text-align: right;\">\n",
       "      <th></th>\n",
       "      <th>buying price</th>\n",
       "      <th>maintenance cost</th>\n",
       "      <th>number of doors</th>\n",
       "      <th>number of persons</th>\n",
       "      <th>lug_boot</th>\n",
       "      <th>safety</th>\n",
       "      <th>decision</th>\n",
       "    </tr>\n",
       "  </thead>\n",
       "  <tbody>\n",
       "    <tr>\n",
       "      <th>0</th>\n",
       "      <td>vhigh</td>\n",
       "      <td>vhigh</td>\n",
       "      <td>2</td>\n",
       "      <td>2</td>\n",
       "      <td>small</td>\n",
       "      <td>low</td>\n",
       "      <td>unacc</td>\n",
       "    </tr>\n",
       "    <tr>\n",
       "      <th>1</th>\n",
       "      <td>vhigh</td>\n",
       "      <td>vhigh</td>\n",
       "      <td>2</td>\n",
       "      <td>2</td>\n",
       "      <td>small</td>\n",
       "      <td>med</td>\n",
       "      <td>unacc</td>\n",
       "    </tr>\n",
       "    <tr>\n",
       "      <th>2</th>\n",
       "      <td>vhigh</td>\n",
       "      <td>vhigh</td>\n",
       "      <td>2</td>\n",
       "      <td>2</td>\n",
       "      <td>small</td>\n",
       "      <td>high</td>\n",
       "      <td>unacc</td>\n",
       "    </tr>\n",
       "    <tr>\n",
       "      <th>3</th>\n",
       "      <td>vhigh</td>\n",
       "      <td>vhigh</td>\n",
       "      <td>2</td>\n",
       "      <td>2</td>\n",
       "      <td>med</td>\n",
       "      <td>low</td>\n",
       "      <td>unacc</td>\n",
       "    </tr>\n",
       "    <tr>\n",
       "      <th>4</th>\n",
       "      <td>vhigh</td>\n",
       "      <td>vhigh</td>\n",
       "      <td>2</td>\n",
       "      <td>2</td>\n",
       "      <td>med</td>\n",
       "      <td>med</td>\n",
       "      <td>unacc</td>\n",
       "    </tr>\n",
       "    <tr>\n",
       "      <th>...</th>\n",
       "      <td>...</td>\n",
       "      <td>...</td>\n",
       "      <td>...</td>\n",
       "      <td>...</td>\n",
       "      <td>...</td>\n",
       "      <td>...</td>\n",
       "      <td>...</td>\n",
       "    </tr>\n",
       "    <tr>\n",
       "      <th>1723</th>\n",
       "      <td>low</td>\n",
       "      <td>low</td>\n",
       "      <td>5more</td>\n",
       "      <td>more</td>\n",
       "      <td>med</td>\n",
       "      <td>med</td>\n",
       "      <td>good</td>\n",
       "    </tr>\n",
       "    <tr>\n",
       "      <th>1724</th>\n",
       "      <td>low</td>\n",
       "      <td>low</td>\n",
       "      <td>5more</td>\n",
       "      <td>more</td>\n",
       "      <td>med</td>\n",
       "      <td>high</td>\n",
       "      <td>vgood</td>\n",
       "    </tr>\n",
       "    <tr>\n",
       "      <th>1725</th>\n",
       "      <td>low</td>\n",
       "      <td>low</td>\n",
       "      <td>5more</td>\n",
       "      <td>more</td>\n",
       "      <td>big</td>\n",
       "      <td>low</td>\n",
       "      <td>unacc</td>\n",
       "    </tr>\n",
       "    <tr>\n",
       "      <th>1726</th>\n",
       "      <td>low</td>\n",
       "      <td>low</td>\n",
       "      <td>5more</td>\n",
       "      <td>more</td>\n",
       "      <td>big</td>\n",
       "      <td>med</td>\n",
       "      <td>good</td>\n",
       "    </tr>\n",
       "    <tr>\n",
       "      <th>1727</th>\n",
       "      <td>low</td>\n",
       "      <td>low</td>\n",
       "      <td>5more</td>\n",
       "      <td>more</td>\n",
       "      <td>big</td>\n",
       "      <td>high</td>\n",
       "      <td>vgood</td>\n",
       "    </tr>\n",
       "  </tbody>\n",
       "</table>\n",
       "<p>1728 rows × 7 columns</p>\n",
       "</div>"
      ],
      "text/plain": [
       "     buying price maintenance cost number of doors number of persons lug_boot  \\\n",
       "0           vhigh            vhigh               2                 2    small   \n",
       "1           vhigh            vhigh               2                 2    small   \n",
       "2           vhigh            vhigh               2                 2    small   \n",
       "3           vhigh            vhigh               2                 2      med   \n",
       "4           vhigh            vhigh               2                 2      med   \n",
       "...           ...              ...             ...               ...      ...   \n",
       "1723          low              low           5more              more      med   \n",
       "1724          low              low           5more              more      med   \n",
       "1725          low              low           5more              more      big   \n",
       "1726          low              low           5more              more      big   \n",
       "1727          low              low           5more              more      big   \n",
       "\n",
       "     safety decision  \n",
       "0       low    unacc  \n",
       "1       med    unacc  \n",
       "2      high    unacc  \n",
       "3       low    unacc  \n",
       "4       med    unacc  \n",
       "...     ...      ...  \n",
       "1723    med     good  \n",
       "1724   high    vgood  \n",
       "1725    low    unacc  \n",
       "1726    med     good  \n",
       "1727   high    vgood  \n",
       "\n",
       "[1728 rows x 7 columns]"
      ]
     },
     "execution_count": 3,
     "metadata": {},
     "output_type": "execute_result"
    }
   ],
   "source": [
    "col_names =['buying price', 'maintenance cost', 'number of doors', \n",
    "            'number of persons', 'lug_boot' ,'safety', 'decision']\n",
    "\n",
    "df = pd.read_csv('../data/car_evaluation.csv', header=None, names=col_names)                \n",
    "df  "
   ]
  },
  {
   "cell_type": "code",
   "execution_count": 4,
   "id": "284846d3",
   "metadata": {},
   "outputs": [],
   "source": [
    "X = df.drop(['decision'], axis=1)\n",
    "\n",
    "y = df['decision']"
   ]
  },
  {
   "cell_type": "code",
   "execution_count": 5,
   "id": "c1e22976",
   "metadata": {},
   "outputs": [],
   "source": [
    "from sklearn.model_selection import train_test_split\n",
    "\n",
    "X_train, X_test, y_train, y_test = train_test_split(X, y, test_size = 0.33, random_state = 42)"
   ]
  },
  {
   "cell_type": "code",
   "execution_count": 6,
   "id": "a603a583",
   "metadata": {},
   "outputs": [],
   "source": [
    "import category_encoders as ce\n",
    "\n",
    "encoder = ce.one_hot.OneHotEncoder(cols=['buying price', 'maintenance cost', 'number of doors', \n",
    "            'number of persons', 'lug_boot' ,'safety',])\n",
    "\n",
    "\n",
    "X_train = encoder.fit_transform(X_train)\n",
    "\n",
    "X_test = encoder.transform(X_test)"
   ]
  },
  {
   "cell_type": "markdown",
   "id": "eb4fd4f4",
   "metadata": {},
   "source": [
    "### Задача\n",
    "Обучить random forest и посмотреть на матрицу ошибок"
   ]
  },
  {
   "cell_type": "code",
   "execution_count": 8,
   "id": "9807624c",
   "metadata": {},
   "outputs": [
    {
     "data": {
      "text/plain": [
       "array([[120,   7,   0,   2],\n",
       "       [  2,  17,   0,   1],\n",
       "       [  4,   0, 393,   0],\n",
       "       [  3,   1,   0,  21]])"
      ]
     },
     "execution_count": 8,
     "metadata": {},
     "output_type": "execute_result"
    }
   ],
   "source": [
    "from sklearn.ensemble import RandomForestClassifier\n",
    "from sklearn.metrics import confusion_matrix, accuracy_score, precision_score, recall_score, f1_score\n",
    "\n",
    "\n",
    "rfc = RandomForestClassifier(random_state=0, n_estimators=500)\n",
    "rfc.fit(X_train, y_train)\n",
    "y_pred = rfc.predict(X_test)\n",
    "confusion_matrix(y_test, y_pred)"
   ]
  },
  {
   "cell_type": "code",
   "execution_count": 9,
   "id": "948ea996",
   "metadata": {},
   "outputs": [
    {
     "name": "stdout",
     "output_type": "stream",
     "text": [
      "Метрики качества на отложенной выборке\n",
      "Accuracy: 0.9650\n",
      "Precision: 0.8713\n",
      "Recall 0.9025\n",
      "F1 score: 0.8845\n"
     ]
    }
   ],
   "source": [
    "print(\"Метрики качества на отложенной выборке\")\n",
    "\n",
    "print(\"Accuracy: {0:.4f}\".format(\n",
    "    accuracy_score(y_test, y_pred)\n",
    "))\n",
    "\n",
    "print(\"Precision: {0:.4f}\".format(\n",
    "    precision_score(y_test, y_pred, average='macro')\n",
    "))\n",
    "\n",
    "print(\"Recall {0:.4f}\".format(\n",
    "    recall_score(y_test, y_pred, average='macro')\n",
    "))\n",
    "\n",
    "print(\"F1 score: {0:.4f}\".format(\n",
    "    f1_score(y_test, y_pred, average='macro')\n",
    "))"
   ]
  },
  {
   "cell_type": "markdown",
   "id": "a699fb40",
   "metadata": {},
   "source": [
    "## Задача\n",
    "\n",
    "Обучить модель градиентного бустинга на датасете, провести подбор гиперпараметров (взять любые 3 штуки, их список можно получить через документацию к модели).\n",
    "\n",
    "Сравнить качество с полученными ранее результатами."
   ]
  },
  {
   "cell_type": "code",
   "execution_count": 10,
   "id": "8b0f9d06",
   "metadata": {},
   "outputs": [],
   "source": [
    "from sklearn.ensemble import GradientBoostingClassifier\n",
    "from sklearn.model_selection import GridSearchCV"
   ]
  },
  {
   "cell_type": "code",
   "execution_count": 11,
   "id": "00410bf2",
   "metadata": {},
   "outputs": [
    {
     "name": "stderr",
     "output_type": "stream",
     "text": [
      "/Users/sabzero43/opt/anaconda3/lib/python3.9/site-packages/sklearn/model_selection/_validation.py:615: FitFailedWarning: Estimator fit failed. The score on this train-test partition for these parameters will be set to nan. Details: \n",
      "Traceback (most recent call last):\n",
      "  File \"/Users/sabzero43/opt/anaconda3/lib/python3.9/site-packages/sklearn/model_selection/_validation.py\", line 598, in _fit_and_score\n",
      "    estimator.fit(X_train, y_train, **fit_params)\n",
      "  File \"/Users/sabzero43/opt/anaconda3/lib/python3.9/site-packages/sklearn/ensemble/_gb.py\", line 448, in fit\n",
      "    self._check_params()\n",
      "  File \"/Users/sabzero43/opt/anaconda3/lib/python3.9/site-packages/sklearn/ensemble/_gb.py\", line 249, in _check_params\n",
      "    self.loss_ = loss_class(self.n_classes_)\n",
      "  File \"/Users/sabzero43/opt/anaconda3/lib/python3.9/site-packages/sklearn/ensemble/_gb_losses.py\", line 775, in __init__\n",
      "    raise ValueError(\"{0:s} requires 2 classes; got {1:d} class(es)\"\n",
      "ValueError: ExponentialLoss requires 2 classes; got 4 class(es)\n",
      "\n",
      "  warnings.warn(\"Estimator fit failed. The score on this train-test\"\n",
      "/Users/sabzero43/opt/anaconda3/lib/python3.9/site-packages/sklearn/model_selection/_validation.py:615: FitFailedWarning: Estimator fit failed. The score on this train-test partition for these parameters will be set to nan. Details: \n",
      "Traceback (most recent call last):\n",
      "  File \"/Users/sabzero43/opt/anaconda3/lib/python3.9/site-packages/sklearn/model_selection/_validation.py\", line 598, in _fit_and_score\n",
      "    estimator.fit(X_train, y_train, **fit_params)\n",
      "  File \"/Users/sabzero43/opt/anaconda3/lib/python3.9/site-packages/sklearn/ensemble/_gb.py\", line 448, in fit\n",
      "    self._check_params()\n",
      "  File \"/Users/sabzero43/opt/anaconda3/lib/python3.9/site-packages/sklearn/ensemble/_gb.py\", line 249, in _check_params\n",
      "    self.loss_ = loss_class(self.n_classes_)\n",
      "  File \"/Users/sabzero43/opt/anaconda3/lib/python3.9/site-packages/sklearn/ensemble/_gb_losses.py\", line 775, in __init__\n",
      "    raise ValueError(\"{0:s} requires 2 classes; got {1:d} class(es)\"\n",
      "ValueError: ExponentialLoss requires 2 classes; got 4 class(es)\n",
      "\n",
      "  warnings.warn(\"Estimator fit failed. The score on this train-test\"\n",
      "/Users/sabzero43/opt/anaconda3/lib/python3.9/site-packages/sklearn/model_selection/_validation.py:615: FitFailedWarning: Estimator fit failed. The score on this train-test partition for these parameters will be set to nan. Details: \n",
      "Traceback (most recent call last):\n",
      "  File \"/Users/sabzero43/opt/anaconda3/lib/python3.9/site-packages/sklearn/model_selection/_validation.py\", line 598, in _fit_and_score\n",
      "    estimator.fit(X_train, y_train, **fit_params)\n",
      "  File \"/Users/sabzero43/opt/anaconda3/lib/python3.9/site-packages/sklearn/ensemble/_gb.py\", line 448, in fit\n",
      "    self._check_params()\n",
      "  File \"/Users/sabzero43/opt/anaconda3/lib/python3.9/site-packages/sklearn/ensemble/_gb.py\", line 249, in _check_params\n",
      "    self.loss_ = loss_class(self.n_classes_)\n",
      "  File \"/Users/sabzero43/opt/anaconda3/lib/python3.9/site-packages/sklearn/ensemble/_gb_losses.py\", line 775, in __init__\n",
      "    raise ValueError(\"{0:s} requires 2 classes; got {1:d} class(es)\"\n",
      "ValueError: ExponentialLoss requires 2 classes; got 4 class(es)\n",
      "\n",
      "  warnings.warn(\"Estimator fit failed. The score on this train-test\"\n",
      "/Users/sabzero43/opt/anaconda3/lib/python3.9/site-packages/sklearn/model_selection/_validation.py:615: FitFailedWarning: Estimator fit failed. The score on this train-test partition for these parameters will be set to nan. Details: \n",
      "Traceback (most recent call last):\n",
      "  File \"/Users/sabzero43/opt/anaconda3/lib/python3.9/site-packages/sklearn/model_selection/_validation.py\", line 598, in _fit_and_score\n",
      "    estimator.fit(X_train, y_train, **fit_params)\n",
      "  File \"/Users/sabzero43/opt/anaconda3/lib/python3.9/site-packages/sklearn/ensemble/_gb.py\", line 448, in fit\n",
      "    self._check_params()\n",
      "  File \"/Users/sabzero43/opt/anaconda3/lib/python3.9/site-packages/sklearn/ensemble/_gb.py\", line 249, in _check_params\n",
      "    self.loss_ = loss_class(self.n_classes_)\n",
      "  File \"/Users/sabzero43/opt/anaconda3/lib/python3.9/site-packages/sklearn/ensemble/_gb_losses.py\", line 775, in __init__\n",
      "    raise ValueError(\"{0:s} requires 2 classes; got {1:d} class(es)\"\n",
      "ValueError: ExponentialLoss requires 2 classes; got 4 class(es)\n",
      "\n",
      "  warnings.warn(\"Estimator fit failed. The score on this train-test\"\n",
      "/Users/sabzero43/opt/anaconda3/lib/python3.9/site-packages/sklearn/model_selection/_validation.py:615: FitFailedWarning: Estimator fit failed. The score on this train-test partition for these parameters will be set to nan. Details: \n",
      "Traceback (most recent call last):\n",
      "  File \"/Users/sabzero43/opt/anaconda3/lib/python3.9/site-packages/sklearn/model_selection/_validation.py\", line 598, in _fit_and_score\n",
      "    estimator.fit(X_train, y_train, **fit_params)\n",
      "  File \"/Users/sabzero43/opt/anaconda3/lib/python3.9/site-packages/sklearn/ensemble/_gb.py\", line 448, in fit\n",
      "    self._check_params()\n",
      "  File \"/Users/sabzero43/opt/anaconda3/lib/python3.9/site-packages/sklearn/ensemble/_gb.py\", line 249, in _check_params\n",
      "    self.loss_ = loss_class(self.n_classes_)\n",
      "  File \"/Users/sabzero43/opt/anaconda3/lib/python3.9/site-packages/sklearn/ensemble/_gb_losses.py\", line 775, in __init__\n",
      "    raise ValueError(\"{0:s} requires 2 classes; got {1:d} class(es)\"\n",
      "ValueError: ExponentialLoss requires 2 classes; got 4 class(es)\n",
      "\n",
      "  warnings.warn(\"Estimator fit failed. The score on this train-test\"\n",
      "/Users/sabzero43/opt/anaconda3/lib/python3.9/site-packages/sklearn/model_selection/_validation.py:615: FitFailedWarning: Estimator fit failed. The score on this train-test partition for these parameters will be set to nan. Details: \n",
      "Traceback (most recent call last):\n",
      "  File \"/Users/sabzero43/opt/anaconda3/lib/python3.9/site-packages/sklearn/model_selection/_validation.py\", line 598, in _fit_and_score\n",
      "    estimator.fit(X_train, y_train, **fit_params)\n",
      "  File \"/Users/sabzero43/opt/anaconda3/lib/python3.9/site-packages/sklearn/ensemble/_gb.py\", line 448, in fit\n",
      "    self._check_params()\n",
      "  File \"/Users/sabzero43/opt/anaconda3/lib/python3.9/site-packages/sklearn/ensemble/_gb.py\", line 249, in _check_params\n",
      "    self.loss_ = loss_class(self.n_classes_)\n",
      "  File \"/Users/sabzero43/opt/anaconda3/lib/python3.9/site-packages/sklearn/ensemble/_gb_losses.py\", line 775, in __init__\n",
      "    raise ValueError(\"{0:s} requires 2 classes; got {1:d} class(es)\"\n",
      "ValueError: ExponentialLoss requires 2 classes; got 4 class(es)\n",
      "\n",
      "  warnings.warn(\"Estimator fit failed. The score on this train-test\"\n",
      "/Users/sabzero43/opt/anaconda3/lib/python3.9/site-packages/sklearn/model_selection/_validation.py:615: FitFailedWarning: Estimator fit failed. The score on this train-test partition for these parameters will be set to nan. Details: \n",
      "Traceback (most recent call last):\n",
      "  File \"/Users/sabzero43/opt/anaconda3/lib/python3.9/site-packages/sklearn/model_selection/_validation.py\", line 598, in _fit_and_score\n",
      "    estimator.fit(X_train, y_train, **fit_params)\n",
      "  File \"/Users/sabzero43/opt/anaconda3/lib/python3.9/site-packages/sklearn/ensemble/_gb.py\", line 448, in fit\n",
      "    self._check_params()\n",
      "  File \"/Users/sabzero43/opt/anaconda3/lib/python3.9/site-packages/sklearn/ensemble/_gb.py\", line 249, in _check_params\n",
      "    self.loss_ = loss_class(self.n_classes_)\n",
      "  File \"/Users/sabzero43/opt/anaconda3/lib/python3.9/site-packages/sklearn/ensemble/_gb_losses.py\", line 775, in __init__\n",
      "    raise ValueError(\"{0:s} requires 2 classes; got {1:d} class(es)\"\n",
      "ValueError: ExponentialLoss requires 2 classes; got 4 class(es)\n",
      "\n",
      "  warnings.warn(\"Estimator fit failed. The score on this train-test\"\n",
      "/Users/sabzero43/opt/anaconda3/lib/python3.9/site-packages/sklearn/model_selection/_validation.py:615: FitFailedWarning: Estimator fit failed. The score on this train-test partition for these parameters will be set to nan. Details: \n",
      "Traceback (most recent call last):\n",
      "  File \"/Users/sabzero43/opt/anaconda3/lib/python3.9/site-packages/sklearn/model_selection/_validation.py\", line 598, in _fit_and_score\n",
      "    estimator.fit(X_train, y_train, **fit_params)\n",
      "  File \"/Users/sabzero43/opt/anaconda3/lib/python3.9/site-packages/sklearn/ensemble/_gb.py\", line 448, in fit\n",
      "    self._check_params()\n",
      "  File \"/Users/sabzero43/opt/anaconda3/lib/python3.9/site-packages/sklearn/ensemble/_gb.py\", line 249, in _check_params\n",
      "    self.loss_ = loss_class(self.n_classes_)\n",
      "  File \"/Users/sabzero43/opt/anaconda3/lib/python3.9/site-packages/sklearn/ensemble/_gb_losses.py\", line 775, in __init__\n",
      "    raise ValueError(\"{0:s} requires 2 classes; got {1:d} class(es)\"\n",
      "ValueError: ExponentialLoss requires 2 classes; got 4 class(es)\n",
      "\n",
      "  warnings.warn(\"Estimator fit failed. The score on this train-test\"\n",
      "/Users/sabzero43/opt/anaconda3/lib/python3.9/site-packages/sklearn/model_selection/_validation.py:615: FitFailedWarning: Estimator fit failed. The score on this train-test partition for these parameters will be set to nan. Details: \n",
      "Traceback (most recent call last):\n",
      "  File \"/Users/sabzero43/opt/anaconda3/lib/python3.9/site-packages/sklearn/model_selection/_validation.py\", line 598, in _fit_and_score\n",
      "    estimator.fit(X_train, y_train, **fit_params)\n",
      "  File \"/Users/sabzero43/opt/anaconda3/lib/python3.9/site-packages/sklearn/ensemble/_gb.py\", line 448, in fit\n",
      "    self._check_params()\n",
      "  File \"/Users/sabzero43/opt/anaconda3/lib/python3.9/site-packages/sklearn/ensemble/_gb.py\", line 249, in _check_params\n",
      "    self.loss_ = loss_class(self.n_classes_)\n",
      "  File \"/Users/sabzero43/opt/anaconda3/lib/python3.9/site-packages/sklearn/ensemble/_gb_losses.py\", line 775, in __init__\n",
      "    raise ValueError(\"{0:s} requires 2 classes; got {1:d} class(es)\"\n",
      "ValueError: ExponentialLoss requires 2 classes; got 4 class(es)\n",
      "\n",
      "  warnings.warn(\"Estimator fit failed. The score on this train-test\"\n",
      "/Users/sabzero43/opt/anaconda3/lib/python3.9/site-packages/sklearn/model_selection/_validation.py:615: FitFailedWarning: Estimator fit failed. The score on this train-test partition for these parameters will be set to nan. Details: \n",
      "Traceback (most recent call last):\n",
      "  File \"/Users/sabzero43/opt/anaconda3/lib/python3.9/site-packages/sklearn/model_selection/_validation.py\", line 598, in _fit_and_score\n",
      "    estimator.fit(X_train, y_train, **fit_params)\n",
      "  File \"/Users/sabzero43/opt/anaconda3/lib/python3.9/site-packages/sklearn/ensemble/_gb.py\", line 448, in fit\n",
      "    self._check_params()\n",
      "  File \"/Users/sabzero43/opt/anaconda3/lib/python3.9/site-packages/sklearn/ensemble/_gb.py\", line 249, in _check_params\n",
      "    self.loss_ = loss_class(self.n_classes_)\n",
      "  File \"/Users/sabzero43/opt/anaconda3/lib/python3.9/site-packages/sklearn/ensemble/_gb_losses.py\", line 775, in __init__\n",
      "    raise ValueError(\"{0:s} requires 2 classes; got {1:d} class(es)\"\n",
      "ValueError: ExponentialLoss requires 2 classes; got 4 class(es)\n",
      "\n",
      "  warnings.warn(\"Estimator fit failed. The score on this train-test\"\n",
      "/Users/sabzero43/opt/anaconda3/lib/python3.9/site-packages/sklearn/model_selection/_search.py:922: UserWarning: One or more of the test scores are non-finite: [0.96371847 0.97753769        nan        nan]\n",
      "  warnings.warn(\n"
     ]
    }
   ],
   "source": [
    "model = GradientBoostingClassifier()\n",
    "params = {\n",
    "    'loss': ['deviance', 'exponential'],\n",
    "    'n_estimators': [100, 200],\n",
    "    'learning_rate': [0.05]\n",
    "}\n",
    "\n",
    "cls = GridSearchCV(model, params, cv=5)\n",
    "cls.fit(X_train, y_train)\n",
    "y_pred = cls.predict(X_test)"
   ]
  },
  {
   "cell_type": "code",
   "execution_count": 13,
   "id": "a50e4fe6",
   "metadata": {},
   "outputs": [
    {
     "data": {
      "text/plain": [
       "array([[118,   8,   2,   1],\n",
       "       [  0,  19,   0,   1],\n",
       "       [  1,   0, 396,   0],\n",
       "       [  1,   0,   0,  24]])"
      ]
     },
     "execution_count": 13,
     "metadata": {},
     "output_type": "execute_result"
    }
   ],
   "source": [
    "confusion_matrix(y_test, y_pred)"
   ]
  },
  {
   "cell_type": "code",
   "execution_count": 12,
   "id": "d08ffb77",
   "metadata": {},
   "outputs": [
    {
     "name": "stdout",
     "output_type": "stream",
     "text": [
      "Метрики качества на отложенной выборке\n",
      "Accuracy: 0.9755\n",
      "Precision: 0.9013\n",
      "Recall 0.9556\n",
      "F1 score: 0.9234\n"
     ]
    }
   ],
   "source": [
    "print(\"Метрики качества на отложенной выборке\")\n",
    "\n",
    "print(\"Accuracy: {0:.4f}\".format(\n",
    "    accuracy_score(y_test, y_pred)\n",
    "))\n",
    "\n",
    "print(\"Precision: {0:.4f}\".format(\n",
    "    precision_score(y_test, y_pred, average='macro')\n",
    "))\n",
    "\n",
    "print(\"Recall {0:.4f}\".format(\n",
    "    recall_score(y_test, y_pred, average='macro')\n",
    "))\n",
    "\n",
    "print(\"F1 score: {0:.4f}\".format(\n",
    "    f1_score(y_test, y_pred, average='macro')\n",
    "))"
   ]
  },
  {
   "cell_type": "markdown",
   "id": "6a84c516",
   "metadata": {},
   "source": [
    "### Задача\n",
    "Добавить в стекинг еще несколько классификаторов (можно взять классификаторы из прошлых заданий) и получить финальный результат."
   ]
  },
  {
   "cell_type": "code",
   "execution_count": 14,
   "id": "07a7ad26",
   "metadata": {},
   "outputs": [
    {
     "data": {
      "text/plain": [
       "array([[116,   5,   5,   3],\n",
       "       [  0,  19,   0,   1],\n",
       "       [  3,   0, 394,   0],\n",
       "       [  3,   2,   0,  20]])"
      ]
     },
     "execution_count": 14,
     "metadata": {},
     "output_type": "execute_result"
    }
   ],
   "source": [
    "from sklearn.ensemble import StackingClassifier\n",
    "from sklearn.linear_model import LogisticRegression\n",
    "from sklearn.tree import DecisionTreeClassifier\n",
    "\n",
    "estimators = [\n",
    "    ('LogReg', LogisticRegression()),\n",
    "    ('Tree', DecisionTreeClassifier()),\n",
    "    ('RF', RandomForestClassifier())\n",
    "]\n",
    "clf=StackingClassifier(estimators=estimators, final_estimator=LogisticRegression())\n",
    "\n",
    "clf.fit(X_train, y_train)\n",
    "y_pred = clf.predict(X_test)\n",
    "confusion_matrix(y_test, y_pred)"
   ]
  },
  {
   "cell_type": "code",
   "execution_count": 15,
   "id": "4b9d3b7d",
   "metadata": {},
   "outputs": [
    {
     "name": "stdout",
     "output_type": "stream",
     "text": [
      "Метрики качества на отложенной выборке\n",
      "Accuracy: 0.9615\n",
      "Precision: 0.8756\n",
      "Recall 0.9104\n",
      "F1 score: 0.8892\n"
     ]
    }
   ],
   "source": [
    "print(\"Метрики качества на отложенной выборке\")\n",
    "\n",
    "print(\"Accuracy: {0:.4f}\".format(\n",
    "    accuracy_score(y_test, y_pred)\n",
    "))\n",
    "\n",
    "print(\"Precision: {0:.4f}\".format(\n",
    "    precision_score(y_test, y_pred, average='macro')\n",
    "))\n",
    "\n",
    "print(\"Recall {0:.4f}\".format(\n",
    "    recall_score(y_test, y_pred, average='macro')\n",
    "))\n",
    "\n",
    "print(\"F1 score: {0:.4f}\".format(\n",
    "    f1_score(y_test, y_pred, average='macro')\n",
    "))"
   ]
  },
  {
   "cell_type": "code",
   "execution_count": null,
   "id": "efbe3420",
   "metadata": {},
   "outputs": [],
   "source": []
  }
 ],
 "metadata": {
  "kernelspec": {
   "display_name": "Python 3 (ipykernel)",
   "language": "python",
   "name": "python3"
  },
  "language_info": {
   "codemirror_mode": {
    "name": "ipython",
    "version": 3
   },
   "file_extension": ".py",
   "mimetype": "text/x-python",
   "name": "python",
   "nbconvert_exporter": "python",
   "pygments_lexer": "ipython3",
   "version": "3.9.7"
  }
 },
 "nbformat": 4,
 "nbformat_minor": 5
}
